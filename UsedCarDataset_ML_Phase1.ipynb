{
  "cells": [
    {
      "cell_type": "markdown",
      "metadata": {
        "id": "LWspNHap22mp"
      },
      "source": [
        "\n",
        "## IT461 Practical Machine learning\n",
        "### Used Car Prices Dataset\n",
        "\n",
        "*Project Motivation:*\n",
        "\n",
        "we want to develop a predictive model that determines consumer car preferences based on a comparison of key car attributes, such as price, mileage, model year, brand popularity, accident history, and fuel type. By building and training models to analyze differences between paired cars. Our project aims to identify the likelihood of one car being preferred over another, providing insights into the factors that influence car purchasing decisions.\n",
        "\n",
        "*Prepared by:*\n",
        "\n",
        "Jory Alharbi\t443200984\n",
        "\n",
        "Majd Aljuraysi\t443200637\n",
        "\n",
        "Deem Alshaye\t443200583\n",
        "\n",
        "Norah Mohammed Alwohaibi \t443200753\n",
        "\n",
        "Razan Aldakhil\t443201096\n",
        "\n",
        "\n",
        "*dataset source:*\n",
        "https://www.kaggle.com/datasets/taeefnajib/used-car-price-prediction-dataset\n"
      ]
    },
    {
      "cell_type": "code",
      "execution_count": 3,
      "metadata": {
        "colab": {
          "base_uri": "https://localhost:8080/"
        },
        "id": "FV8Is_Yq4xEP",
        "outputId": "31a22076-0233-4745-dedb-2d794082e9c0"
      },
      "outputs": [
        {
          "output_type": "stream",
          "name": "stdout",
          "text": [
            "Mounted at /content/drive\n"
          ]
        }
      ],
      "source": [
        "from google.colab import drive\n",
        "drive.mount('/content/drive')\n",
        "directory_path = '/content/drive/MyDrive/'\n",
        "file_name = \"/content/used_cars.csv\"\n"
      ]
    },
    {
      "cell_type": "code",
      "source": [
        "!pip install scikeras tensorflow numpy\n",
        "!pip install scikeras tensorflow numpy\n",
        "!pip install scikeras\n"
      ],
      "metadata": {
        "id": "f0eAcUe3x7GN"
      },
      "execution_count": null,
      "outputs": []
    },
    {
      "cell_type": "code",
      "execution_count": 4,
      "metadata": {
        "id": "RRtGoHkE5u1u"
      },
      "outputs": [],
      "source": [
        "import pandas as pd\n",
        "import matplotlib.pyplot as plt\n",
        "import seaborn as sns\n",
        "import numpy as np\n",
        "from sklearn.preprocessing import MinMaxScaler\n",
        "import itertools\n",
        "from scikeras.wrappers import KerasClassifier\n",
        "from sklearn.model_selection import GridSearchCV\n",
        "from tensorflow.keras.models import Sequential\n",
        "from tensorflow.keras.layers import Dense\n",
        "from tensorflow.keras.optimizers import Adam, SGD\n",
        "from sklearn.preprocessing import StandardScaler\n",
        "from sklearn.model_selection import train_test_split\n",
        "import itertools\n",
        "import random\n",
        "import pandas as pd\n",
        "from sklearn.model_selection import train_test_split\n",
        "from sklearn.preprocessing import StandardScaler\n",
        "from sklearn.model_selection import RandomizedSearchCV, train_test_split\n",
        "from sklearn.preprocessing import StandardScaler\n",
        "from sklearn.metrics import classification_report, confusion_matrix\n"
      ]
    },
    {
      "cell_type": "code",
      "execution_count": 5,
      "metadata": {
        "id": "6L52V7Vl2qcf"
      },
      "outputs": [],
      "source": [
        "df= pd.read_csv(\"/content/drive/My Drive/used_cars.csv\")"
      ]
    },
    {
      "cell_type": "code",
      "execution_count": 7,
      "metadata": {
        "colab": {
          "base_uri": "https://localhost:8080/",
          "height": 521
        },
        "id": "yv-vw8P752kB",
        "outputId": "b62f473e-3a6b-4732-e6c4-baff4a06f411"
      },
      "outputs": [
        {
          "output_type": "execute_result",
          "data": {
            "text/plain": [
              "      brand                            model  model_year      milage  \\\n",
              "0      Ford  Utility Police Interceptor Base        2013  51,000 mi.   \n",
              "1   Hyundai                     Palisade SEL        2021  34,742 mi.   \n",
              "2     Lexus                    RX 350 RX 350        2022  22,372 mi.   \n",
              "3  INFINITI                 Q50 Hybrid Sport        2015  88,900 mi.   \n",
              "4      Audi        Q3 45 S line Premium Plus        2021   9,835 mi.   \n",
              "\n",
              "       fuel_type                                             engine  \\\n",
              "0  E85 Flex Fuel  300.0HP 3.7L V6 Cylinder Engine Flex Fuel Capa...   \n",
              "1       Gasoline                               3.8L V6 24V GDI DOHC   \n",
              "2       Gasoline                                     3.5 Liter DOHC   \n",
              "3         Hybrid  354.0HP 3.5L V6 Cylinder Engine Gas/Electric H...   \n",
              "4       Gasoline                         2.0L I4 16V GDI DOHC Turbo   \n",
              "\n",
              "        transmission                 ext_col int_col  \\\n",
              "0        6-Speed A/T                   Black   Black   \n",
              "1  8-Speed Automatic         Moonlight Cloud    Gray   \n",
              "2          Automatic                    Blue   Black   \n",
              "3        7-Speed A/T                   Black   Black   \n",
              "4  8-Speed Automatic  Glacier White Metallic   Black   \n",
              "\n",
              "                                 accident clean_title    price  \n",
              "0  At least 1 accident or damage reported         Yes  $10,300  \n",
              "1  At least 1 accident or damage reported         Yes  $38,005  \n",
              "2                           None reported         NaN  $54,598  \n",
              "3                           None reported         Yes  $15,500  \n",
              "4                           None reported         NaN  $34,999  "
            ],
            "text/html": [
              "\n",
              "  <div id=\"df-75bad6ec-56fb-438a-b071-f57d4f0d3791\" class=\"colab-df-container\">\n",
              "    <div>\n",
              "<style scoped>\n",
              "    .dataframe tbody tr th:only-of-type {\n",
              "        vertical-align: middle;\n",
              "    }\n",
              "\n",
              "    .dataframe tbody tr th {\n",
              "        vertical-align: top;\n",
              "    }\n",
              "\n",
              "    .dataframe thead th {\n",
              "        text-align: right;\n",
              "    }\n",
              "</style>\n",
              "<table border=\"1\" class=\"dataframe\">\n",
              "  <thead>\n",
              "    <tr style=\"text-align: right;\">\n",
              "      <th></th>\n",
              "      <th>brand</th>\n",
              "      <th>model</th>\n",
              "      <th>model_year</th>\n",
              "      <th>milage</th>\n",
              "      <th>fuel_type</th>\n",
              "      <th>engine</th>\n",
              "      <th>transmission</th>\n",
              "      <th>ext_col</th>\n",
              "      <th>int_col</th>\n",
              "      <th>accident</th>\n",
              "      <th>clean_title</th>\n",
              "      <th>price</th>\n",
              "    </tr>\n",
              "  </thead>\n",
              "  <tbody>\n",
              "    <tr>\n",
              "      <th>0</th>\n",
              "      <td>Ford</td>\n",
              "      <td>Utility Police Interceptor Base</td>\n",
              "      <td>2013</td>\n",
              "      <td>51,000 mi.</td>\n",
              "      <td>E85 Flex Fuel</td>\n",
              "      <td>300.0HP 3.7L V6 Cylinder Engine Flex Fuel Capa...</td>\n",
              "      <td>6-Speed A/T</td>\n",
              "      <td>Black</td>\n",
              "      <td>Black</td>\n",
              "      <td>At least 1 accident or damage reported</td>\n",
              "      <td>Yes</td>\n",
              "      <td>$10,300</td>\n",
              "    </tr>\n",
              "    <tr>\n",
              "      <th>1</th>\n",
              "      <td>Hyundai</td>\n",
              "      <td>Palisade SEL</td>\n",
              "      <td>2021</td>\n",
              "      <td>34,742 mi.</td>\n",
              "      <td>Gasoline</td>\n",
              "      <td>3.8L V6 24V GDI DOHC</td>\n",
              "      <td>8-Speed Automatic</td>\n",
              "      <td>Moonlight Cloud</td>\n",
              "      <td>Gray</td>\n",
              "      <td>At least 1 accident or damage reported</td>\n",
              "      <td>Yes</td>\n",
              "      <td>$38,005</td>\n",
              "    </tr>\n",
              "    <tr>\n",
              "      <th>2</th>\n",
              "      <td>Lexus</td>\n",
              "      <td>RX 350 RX 350</td>\n",
              "      <td>2022</td>\n",
              "      <td>22,372 mi.</td>\n",
              "      <td>Gasoline</td>\n",
              "      <td>3.5 Liter DOHC</td>\n",
              "      <td>Automatic</td>\n",
              "      <td>Blue</td>\n",
              "      <td>Black</td>\n",
              "      <td>None reported</td>\n",
              "      <td>NaN</td>\n",
              "      <td>$54,598</td>\n",
              "    </tr>\n",
              "    <tr>\n",
              "      <th>3</th>\n",
              "      <td>INFINITI</td>\n",
              "      <td>Q50 Hybrid Sport</td>\n",
              "      <td>2015</td>\n",
              "      <td>88,900 mi.</td>\n",
              "      <td>Hybrid</td>\n",
              "      <td>354.0HP 3.5L V6 Cylinder Engine Gas/Electric H...</td>\n",
              "      <td>7-Speed A/T</td>\n",
              "      <td>Black</td>\n",
              "      <td>Black</td>\n",
              "      <td>None reported</td>\n",
              "      <td>Yes</td>\n",
              "      <td>$15,500</td>\n",
              "    </tr>\n",
              "    <tr>\n",
              "      <th>4</th>\n",
              "      <td>Audi</td>\n",
              "      <td>Q3 45 S line Premium Plus</td>\n",
              "      <td>2021</td>\n",
              "      <td>9,835 mi.</td>\n",
              "      <td>Gasoline</td>\n",
              "      <td>2.0L I4 16V GDI DOHC Turbo</td>\n",
              "      <td>8-Speed Automatic</td>\n",
              "      <td>Glacier White Metallic</td>\n",
              "      <td>Black</td>\n",
              "      <td>None reported</td>\n",
              "      <td>NaN</td>\n",
              "      <td>$34,999</td>\n",
              "    </tr>\n",
              "  </tbody>\n",
              "</table>\n",
              "</div>\n",
              "    <div class=\"colab-df-buttons\">\n",
              "\n",
              "  <div class=\"colab-df-container\">\n",
              "    <button class=\"colab-df-convert\" onclick=\"convertToInteractive('df-75bad6ec-56fb-438a-b071-f57d4f0d3791')\"\n",
              "            title=\"Convert this dataframe to an interactive table.\"\n",
              "            style=\"display:none;\">\n",
              "\n",
              "  <svg xmlns=\"http://www.w3.org/2000/svg\" height=\"24px\" viewBox=\"0 -960 960 960\">\n",
              "    <path d=\"M120-120v-720h720v720H120Zm60-500h600v-160H180v160Zm220 220h160v-160H400v160Zm0 220h160v-160H400v160ZM180-400h160v-160H180v160Zm440 0h160v-160H620v160ZM180-180h160v-160H180v160Zm440 0h160v-160H620v160Z\"/>\n",
              "  </svg>\n",
              "    </button>\n",
              "\n",
              "  <style>\n",
              "    .colab-df-container {\n",
              "      display:flex;\n",
              "      gap: 12px;\n",
              "    }\n",
              "\n",
              "    .colab-df-convert {\n",
              "      background-color: #E8F0FE;\n",
              "      border: none;\n",
              "      border-radius: 50%;\n",
              "      cursor: pointer;\n",
              "      display: none;\n",
              "      fill: #1967D2;\n",
              "      height: 32px;\n",
              "      padding: 0 0 0 0;\n",
              "      width: 32px;\n",
              "    }\n",
              "\n",
              "    .colab-df-convert:hover {\n",
              "      background-color: #E2EBFA;\n",
              "      box-shadow: 0px 1px 2px rgba(60, 64, 67, 0.3), 0px 1px 3px 1px rgba(60, 64, 67, 0.15);\n",
              "      fill: #174EA6;\n",
              "    }\n",
              "\n",
              "    .colab-df-buttons div {\n",
              "      margin-bottom: 4px;\n",
              "    }\n",
              "\n",
              "    [theme=dark] .colab-df-convert {\n",
              "      background-color: #3B4455;\n",
              "      fill: #D2E3FC;\n",
              "    }\n",
              "\n",
              "    [theme=dark] .colab-df-convert:hover {\n",
              "      background-color: #434B5C;\n",
              "      box-shadow: 0px 1px 3px 1px rgba(0, 0, 0, 0.15);\n",
              "      filter: drop-shadow(0px 1px 2px rgba(0, 0, 0, 0.3));\n",
              "      fill: #FFFFFF;\n",
              "    }\n",
              "  </style>\n",
              "\n",
              "    <script>\n",
              "      const buttonEl =\n",
              "        document.querySelector('#df-75bad6ec-56fb-438a-b071-f57d4f0d3791 button.colab-df-convert');\n",
              "      buttonEl.style.display =\n",
              "        google.colab.kernel.accessAllowed ? 'block' : 'none';\n",
              "\n",
              "      async function convertToInteractive(key) {\n",
              "        const element = document.querySelector('#df-75bad6ec-56fb-438a-b071-f57d4f0d3791');\n",
              "        const dataTable =\n",
              "          await google.colab.kernel.invokeFunction('convertToInteractive',\n",
              "                                                    [key], {});\n",
              "        if (!dataTable) return;\n",
              "\n",
              "        const docLinkHtml = 'Like what you see? Visit the ' +\n",
              "          '<a target=\"_blank\" href=https://colab.research.google.com/notebooks/data_table.ipynb>data table notebook</a>'\n",
              "          + ' to learn more about interactive tables.';\n",
              "        element.innerHTML = '';\n",
              "        dataTable['output_type'] = 'display_data';\n",
              "        await google.colab.output.renderOutput(dataTable, element);\n",
              "        const docLink = document.createElement('div');\n",
              "        docLink.innerHTML = docLinkHtml;\n",
              "        element.appendChild(docLink);\n",
              "      }\n",
              "    </script>\n",
              "  </div>\n",
              "\n",
              "\n",
              "<div id=\"df-9f791b82-3731-49b9-9d9a-c15a9acf2247\">\n",
              "  <button class=\"colab-df-quickchart\" onclick=\"quickchart('df-9f791b82-3731-49b9-9d9a-c15a9acf2247')\"\n",
              "            title=\"Suggest charts\"\n",
              "            style=\"display:none;\">\n",
              "\n",
              "<svg xmlns=\"http://www.w3.org/2000/svg\" height=\"24px\"viewBox=\"0 0 24 24\"\n",
              "     width=\"24px\">\n",
              "    <g>\n",
              "        <path d=\"M19 3H5c-1.1 0-2 .9-2 2v14c0 1.1.9 2 2 2h14c1.1 0 2-.9 2-2V5c0-1.1-.9-2-2-2zM9 17H7v-7h2v7zm4 0h-2V7h2v10zm4 0h-2v-4h2v4z\"/>\n",
              "    </g>\n",
              "</svg>\n",
              "  </button>\n",
              "\n",
              "<style>\n",
              "  .colab-df-quickchart {\n",
              "      --bg-color: #E8F0FE;\n",
              "      --fill-color: #1967D2;\n",
              "      --hover-bg-color: #E2EBFA;\n",
              "      --hover-fill-color: #174EA6;\n",
              "      --disabled-fill-color: #AAA;\n",
              "      --disabled-bg-color: #DDD;\n",
              "  }\n",
              "\n",
              "  [theme=dark] .colab-df-quickchart {\n",
              "      --bg-color: #3B4455;\n",
              "      --fill-color: #D2E3FC;\n",
              "      --hover-bg-color: #434B5C;\n",
              "      --hover-fill-color: #FFFFFF;\n",
              "      --disabled-bg-color: #3B4455;\n",
              "      --disabled-fill-color: #666;\n",
              "  }\n",
              "\n",
              "  .colab-df-quickchart {\n",
              "    background-color: var(--bg-color);\n",
              "    border: none;\n",
              "    border-radius: 50%;\n",
              "    cursor: pointer;\n",
              "    display: none;\n",
              "    fill: var(--fill-color);\n",
              "    height: 32px;\n",
              "    padding: 0;\n",
              "    width: 32px;\n",
              "  }\n",
              "\n",
              "  .colab-df-quickchart:hover {\n",
              "    background-color: var(--hover-bg-color);\n",
              "    box-shadow: 0 1px 2px rgba(60, 64, 67, 0.3), 0 1px 3px 1px rgba(60, 64, 67, 0.15);\n",
              "    fill: var(--button-hover-fill-color);\n",
              "  }\n",
              "\n",
              "  .colab-df-quickchart-complete:disabled,\n",
              "  .colab-df-quickchart-complete:disabled:hover {\n",
              "    background-color: var(--disabled-bg-color);\n",
              "    fill: var(--disabled-fill-color);\n",
              "    box-shadow: none;\n",
              "  }\n",
              "\n",
              "  .colab-df-spinner {\n",
              "    border: 2px solid var(--fill-color);\n",
              "    border-color: transparent;\n",
              "    border-bottom-color: var(--fill-color);\n",
              "    animation:\n",
              "      spin 1s steps(1) infinite;\n",
              "  }\n",
              "\n",
              "  @keyframes spin {\n",
              "    0% {\n",
              "      border-color: transparent;\n",
              "      border-bottom-color: var(--fill-color);\n",
              "      border-left-color: var(--fill-color);\n",
              "    }\n",
              "    20% {\n",
              "      border-color: transparent;\n",
              "      border-left-color: var(--fill-color);\n",
              "      border-top-color: var(--fill-color);\n",
              "    }\n",
              "    30% {\n",
              "      border-color: transparent;\n",
              "      border-left-color: var(--fill-color);\n",
              "      border-top-color: var(--fill-color);\n",
              "      border-right-color: var(--fill-color);\n",
              "    }\n",
              "    40% {\n",
              "      border-color: transparent;\n",
              "      border-right-color: var(--fill-color);\n",
              "      border-top-color: var(--fill-color);\n",
              "    }\n",
              "    60% {\n",
              "      border-color: transparent;\n",
              "      border-right-color: var(--fill-color);\n",
              "    }\n",
              "    80% {\n",
              "      border-color: transparent;\n",
              "      border-right-color: var(--fill-color);\n",
              "      border-bottom-color: var(--fill-color);\n",
              "    }\n",
              "    90% {\n",
              "      border-color: transparent;\n",
              "      border-bottom-color: var(--fill-color);\n",
              "    }\n",
              "  }\n",
              "</style>\n",
              "\n",
              "  <script>\n",
              "    async function quickchart(key) {\n",
              "      const quickchartButtonEl =\n",
              "        document.querySelector('#' + key + ' button');\n",
              "      quickchartButtonEl.disabled = true;  // To prevent multiple clicks.\n",
              "      quickchartButtonEl.classList.add('colab-df-spinner');\n",
              "      try {\n",
              "        const charts = await google.colab.kernel.invokeFunction(\n",
              "            'suggestCharts', [key], {});\n",
              "      } catch (error) {\n",
              "        console.error('Error during call to suggestCharts:', error);\n",
              "      }\n",
              "      quickchartButtonEl.classList.remove('colab-df-spinner');\n",
              "      quickchartButtonEl.classList.add('colab-df-quickchart-complete');\n",
              "    }\n",
              "    (() => {\n",
              "      let quickchartButtonEl =\n",
              "        document.querySelector('#df-9f791b82-3731-49b9-9d9a-c15a9acf2247 button');\n",
              "      quickchartButtonEl.style.display =\n",
              "        google.colab.kernel.accessAllowed ? 'block' : 'none';\n",
              "    })();\n",
              "  </script>\n",
              "</div>\n",
              "\n",
              "    </div>\n",
              "  </div>\n"
            ],
            "application/vnd.google.colaboratory.intrinsic+json": {
              "type": "dataframe",
              "variable_name": "df",
              "summary": "{\n  \"name\": \"df\",\n  \"rows\": 4009,\n  \"fields\": [\n    {\n      \"column\": \"brand\",\n      \"properties\": {\n        \"dtype\": \"category\",\n        \"num_unique_values\": 57,\n        \"samples\": [\n          \"Ford\",\n          \"Acura\",\n          \"Maserati\"\n        ],\n        \"semantic_type\": \"\",\n        \"description\": \"\"\n      }\n    },\n    {\n      \"column\": \"model\",\n      \"properties\": {\n        \"dtype\": \"category\",\n        \"num_unique_values\": 1898,\n        \"samples\": [\n          \"Expedition King Ranch\",\n          \"Outback 3.0 R VDC Limited\",\n          \"AMG GLC 43 AMG GLC 43\"\n        ],\n        \"semantic_type\": \"\",\n        \"description\": \"\"\n      }\n    },\n    {\n      \"column\": \"model_year\",\n      \"properties\": {\n        \"dtype\": \"number\",\n        \"std\": 6,\n        \"min\": 1974,\n        \"max\": 2024,\n        \"num_unique_values\": 34,\n        \"samples\": [\n          2012,\n          2009,\n          1998\n        ],\n        \"semantic_type\": \"\",\n        \"description\": \"\"\n      }\n    },\n    {\n      \"column\": \"milage\",\n      \"properties\": {\n        \"dtype\": \"string\",\n        \"num_unique_values\": 2818,\n        \"samples\": [\n          \"8,730 mi.\",\n          \"21,404 mi.\",\n          \"53,169 mi.\"\n        ],\n        \"semantic_type\": \"\",\n        \"description\": \"\"\n      }\n    },\n    {\n      \"column\": \"fuel_type\",\n      \"properties\": {\n        \"dtype\": \"category\",\n        \"num_unique_values\": 7,\n        \"samples\": [\n          \"E85 Flex Fuel\",\n          \"Gasoline\",\n          \"\\u2013\"\n        ],\n        \"semantic_type\": \"\",\n        \"description\": \"\"\n      }\n    },\n    {\n      \"column\": \"engine\",\n      \"properties\": {\n        \"dtype\": \"category\",\n        \"num_unique_values\": 1146,\n        \"samples\": [\n          \"2.5L I4 16V PDI DOHC Hybrid\",\n          \"330.0HP 2.0L 4 Cylinder Engine Gasoline Fuel\",\n          \"1.6L I4 16V GDI DOHC Turbo\"\n        ],\n        \"semantic_type\": \"\",\n        \"description\": \"\"\n      }\n    },\n    {\n      \"column\": \"transmission\",\n      \"properties\": {\n        \"dtype\": \"category\",\n        \"num_unique_values\": 62,\n        \"samples\": [\n          \"Automatic, 7-Spd S tronic Dual-Clutch\",\n          \"7-Speed DCT Automatic\",\n          \"6-Speed A/T\"\n        ],\n        \"semantic_type\": \"\",\n        \"description\": \"\"\n      }\n    },\n    {\n      \"column\": \"ext_col\",\n      \"properties\": {\n        \"dtype\": \"category\",\n        \"num_unique_values\": 319,\n        \"samples\": [\n          \"Ibis White\",\n          \"Carbonized Gray Metallic\",\n          \"Beige\"\n        ],\n        \"semantic_type\": \"\",\n        \"description\": \"\"\n      }\n    },\n    {\n      \"column\": \"int_col\",\n      \"properties\": {\n        \"dtype\": \"category\",\n        \"num_unique_values\": 156,\n        \"samples\": [\n          \"Slate\",\n          \"Tan\",\n          \"Almond Beige\"\n        ],\n        \"semantic_type\": \"\",\n        \"description\": \"\"\n      }\n    },\n    {\n      \"column\": \"accident\",\n      \"properties\": {\n        \"dtype\": \"category\",\n        \"num_unique_values\": 2,\n        \"samples\": [\n          \"None reported\",\n          \"At least 1 accident or damage reported\"\n        ],\n        \"semantic_type\": \"\",\n        \"description\": \"\"\n      }\n    },\n    {\n      \"column\": \"clean_title\",\n      \"properties\": {\n        \"dtype\": \"category\",\n        \"num_unique_values\": 1,\n        \"samples\": [\n          \"Yes\"\n        ],\n        \"semantic_type\": \"\",\n        \"description\": \"\"\n      }\n    },\n    {\n      \"column\": \"price\",\n      \"properties\": {\n        \"dtype\": \"category\",\n        \"num_unique_values\": 1569,\n        \"samples\": [\n          \"$44,600\"\n        ],\n        \"semantic_type\": \"\",\n        \"description\": \"\"\n      }\n    }\n  ]\n}"
            }
          },
          "metadata": {},
          "execution_count": 7
        }
      ],
      "source": [
        "df.head(5)"
      ]
    },
    {
      "cell_type": "markdown",
      "metadata": {
        "id": "9-HNGLUVLoNJ"
      },
      "source": [
        "## 1- Data cleaning and Inspection"
      ]
    },
    {
      "cell_type": "markdown",
      "metadata": {
        "id": "D0vCpRzyZcRx"
      },
      "source": [
        "we will start by cleaning or dataset to prepare it for further work, starting by checking for missing values"
      ]
    },
    {
      "cell_type": "markdown",
      "metadata": {
        "id": "a5O6fn2hPMUn"
      },
      "source": [
        "### Missing values"
      ]
    },
    {
      "cell_type": "code",
      "execution_count": 8,
      "metadata": {
        "id": "RbAV61gqLegU",
        "colab": {
          "base_uri": "https://localhost:8080/"
        },
        "outputId": "a5ee30d6-8f2c-4b22-88bd-0f4015bc3743"
      },
      "outputs": [
        {
          "output_type": "stream",
          "name": "stdout",
          "text": [
            "fuel_type      170\n",
            "accident       113\n",
            "clean_title    596\n",
            "dtype: int64\n"
          ]
        }
      ],
      "source": [
        "missing_values = df.isnull().sum()\n",
        "\n",
        "# Display columns with missing values\n",
        "print(missing_values[missing_values > 0])"
      ]
    },
    {
      "cell_type": "markdown",
      "metadata": {
        "id": "RvsykM8LNfxR"
      },
      "source": [
        "since these features are signaficant for the user, and inflaunce whether the user would by the car or not, we cant just remove them from our dataset, we will fill these missing values with either the mode, mean or most common type or using clusters with the nearest values in the cluster"
      ]
    },
    {
      "cell_type": "code",
      "execution_count": 9,
      "metadata": {
        "id": "v7SUBF0AfXY0",
        "colab": {
          "base_uri": "https://localhost:8080/"
        },
        "outputId": "deac2a6e-ec8c-4c71-8b26-372096392548"
      },
      "outputs": [
        {
          "output_type": "execute_result",
          "data": {
            "text/plain": [
              "array(['E85 Flex Fuel', 'Gasoline', 'Hybrid', nan, 'Diesel',\n",
              "       'Plug-In Hybrid', '–', 'not supported'], dtype=object)"
            ]
          },
          "metadata": {},
          "execution_count": 9
        }
      ],
      "source": [
        "df['fuel_type'].unique()"
      ]
    },
    {
      "cell_type": "markdown",
      "metadata": {
        "id": "FZ1YVmUTiwaI"
      },
      "source": [
        "fuel type has \"–\" and \"not supported\" and needs to be handeled, we will use numpy to solve this, np.nan represents a \"Not a Number\" value, which is useful for handling missing values."
      ]
    },
    {
      "cell_type": "code",
      "execution_count": 10,
      "metadata": {
        "id": "kJBmgCVPixCP"
      },
      "outputs": [],
      "source": [
        "df['fuel_type'] = df['fuel_type'].replace(['–', 'not supported'], np.nan)"
      ]
    },
    {
      "cell_type": "code",
      "execution_count": 11,
      "metadata": {
        "id": "xcbxVhoKMKmn",
        "colab": {
          "base_uri": "https://localhost:8080/"
        },
        "outputId": "429f188e-0769-402d-c0e2-4ffb9624c0a3"
      },
      "outputs": [
        {
          "output_type": "stream",
          "name": "stderr",
          "text": [
            "<ipython-input-11-fbd709290704>:2: FutureWarning: A value is trying to be set on a copy of a DataFrame or Series through chained assignment using an inplace method.\n",
            "The behavior will change in pandas 3.0. This inplace method will never work because the intermediate object on which we are setting values always behaves as a copy.\n",
            "\n",
            "For example, when doing 'df[col].method(value, inplace=True)', try using 'df.method({col: value}, inplace=True)' or df[col] = df[col].method(value) instead, to perform the operation inplace on the original object.\n",
            "\n",
            "\n",
            "  df['fuel_type'].fillna(most_common_fuel_type, inplace=True)\n"
          ]
        }
      ],
      "source": [
        "most_common_fuel_type = df['fuel_type'].mode()[0]\n",
        "df['fuel_type'].fillna(most_common_fuel_type, inplace=True)"
      ]
    },
    {
      "cell_type": "code",
      "execution_count": 12,
      "metadata": {
        "id": "lVgBwFhbOVZg",
        "colab": {
          "base_uri": "https://localhost:8080/"
        },
        "outputId": "e7389a06-3a45-4c87-d304-4ce544eee278"
      },
      "outputs": [
        {
          "output_type": "stream",
          "name": "stderr",
          "text": [
            "<ipython-input-12-354812eb3226>:1: FutureWarning: A value is trying to be set on a copy of a DataFrame or Series through chained assignment using an inplace method.\n",
            "The behavior will change in pandas 3.0. This inplace method will never work because the intermediate object on which we are setting values always behaves as a copy.\n",
            "\n",
            "For example, when doing 'df[col].method(value, inplace=True)', try using 'df.method({col: value}, inplace=True)' or df[col] = df[col].method(value) instead, to perform the operation inplace on the original object.\n",
            "\n",
            "\n",
            "  df['clean_title'].fillna('no', inplace=True)\n"
          ]
        }
      ],
      "source": [
        "df['clean_title'].fillna('no', inplace=True)"
      ]
    },
    {
      "cell_type": "code",
      "execution_count": 13,
      "metadata": {
        "id": "scp5b_nYgWB-",
        "colab": {
          "base_uri": "https://localhost:8080/"
        },
        "outputId": "e5e06f50-eeea-4a64-aed0-47df15a22fe4"
      },
      "outputs": [
        {
          "output_type": "execute_result",
          "data": {
            "text/plain": [
              "array(['At least 1 accident or damage reported', 'None reported', nan],\n",
              "      dtype=object)"
            ]
          },
          "metadata": {},
          "execution_count": 13
        }
      ],
      "source": [
        "df['accident'].unique()"
      ]
    },
    {
      "cell_type": "code",
      "execution_count": 14,
      "metadata": {
        "id": "iZfwlU2YOgfX"
      },
      "outputs": [],
      "source": [
        "# Fill missing values in the 'accident' column with 'None reported'\n",
        "df['accident'] = df['accident'].fillna('None reported')\n"
      ]
    },
    {
      "cell_type": "code",
      "execution_count": 15,
      "metadata": {
        "id": "Is_VgmI8O399",
        "colab": {
          "base_uri": "https://localhost:8080/"
        },
        "outputId": "d774cafe-2b81-4992-c0ec-af61650407e6"
      },
      "outputs": [
        {
          "output_type": "stream",
          "name": "stdout",
          "text": [
            "Series([], dtype: int64)\n"
          ]
        }
      ],
      "source": [
        "missing_values = df.isnull().sum()\n",
        "\n",
        "# Display columns with missing values\n",
        "print(missing_values[missing_values > 0])"
      ]
    },
    {
      "cell_type": "code",
      "execution_count": 16,
      "metadata": {
        "id": "OsKkgUKmfNn7",
        "colab": {
          "base_uri": "https://localhost:8080/"
        },
        "outputId": "2346b5ca-5ca8-4cf9-d6a6-c9dce647ab59"
      },
      "outputs": [
        {
          "output_type": "stream",
          "name": "stdout",
          "text": [
            "        model_year\n",
            "count  4009.000000\n",
            "mean   2015.515590\n",
            "std       6.104816\n",
            "min    1974.000000\n",
            "25%    2012.000000\n",
            "50%    2017.000000\n",
            "75%    2020.000000\n",
            "max    2024.000000\n"
          ]
        }
      ],
      "source": [
        "# Descriptive Statistics\n",
        "print(df.describe())"
      ]
    },
    {
      "cell_type": "markdown",
      "metadata": {
        "id": "V7lmXuUpPSWB"
      },
      "source": [
        "### duplicate rows"
      ]
    },
    {
      "cell_type": "code",
      "execution_count": 17,
      "metadata": {
        "id": "yQ2xt8mXPKfb",
        "colab": {
          "base_uri": "https://localhost:8080/"
        },
        "outputId": "0b86b304-cab6-42cd-aa98-895b94e8ce3c"
      },
      "outputs": [
        {
          "output_type": "stream",
          "name": "stdout",
          "text": [
            "Number of duplicate rows: 0\n"
          ]
        }
      ],
      "source": [
        "df_duplicates = df[df.duplicated()]\n",
        "\n",
        "num_duplicates = df_duplicates.shape[0]\n",
        "print(f\"Number of duplicate rows: {num_duplicates}\")"
      ]
    },
    {
      "cell_type": "markdown",
      "metadata": {
        "id": "JGXPIcHtcfik"
      },
      "source": [
        "there are no duplicates rows in our dataset so it doesnt require further investigating"
      ]
    },
    {
      "cell_type": "markdown",
      "metadata": {
        "id": "qxTqYNhzeolN"
      },
      "source": [
        "###removing unwanted characters"
      ]
    },
    {
      "cell_type": "markdown",
      "metadata": {
        "id": "mj96pXUWb7yY"
      },
      "source": [
        "the milage and the price have \"mi\" and \"$\" in each data entry, we will remove them to work better with them"
      ]
    },
    {
      "cell_type": "code",
      "execution_count": 18,
      "metadata": {
        "id": "TiBT0kMGewRI"
      },
      "outputs": [],
      "source": [
        "# Data Cleaning: Remove 'mi.' from 'milage' and '$' from 'price', then convert to numeric\n",
        "df['milage'] = df['milage'].str.replace(' mi.', '').str.replace(',', '').astype(float)\n",
        "df['price'] = df['price'].str.replace('$', '').str.replace(',', '').astype(float)"
      ]
    },
    {
      "cell_type": "markdown",
      "metadata": {
        "id": "TB8geDjQa4Y2"
      },
      "source": [
        "## 2- Preprocessing"
      ]
    },
    {
      "cell_type": "markdown",
      "metadata": {
        "id": "MCyjkis0ct7c"
      },
      "source": [
        "For the preprocessing section, we’ll focus on encoding categorical features and normalizing numerical ones to ensure the model performs optimally"
      ]
    },
    {
      "cell_type": "markdown",
      "metadata": {
        "id": "1MacPfR7EeXg"
      },
      "source": [
        "### Encoding"
      ]
    },
    {
      "cell_type": "code",
      "execution_count": 19,
      "metadata": {
        "id": "uG2xqbz4GOMH",
        "colab": {
          "base_uri": "https://localhost:8080/",
          "height": 1000
        },
        "outputId": "3e6d5dee-4761-40c8-88a9-6845471e8984"
      },
      "outputs": [
        {
          "output_type": "execute_result",
          "data": {
            "text/plain": [
              "      brand                            model  model_year    milage  \\\n",
              "0      Ford  Utility Police Interceptor Base        2013   51000.0   \n",
              "1   Hyundai                     Palisade SEL        2021   34742.0   \n",
              "2     Lexus                    RX 350 RX 350        2022   22372.0   \n",
              "3  INFINITI                 Q50 Hybrid Sport        2015   88900.0   \n",
              "4      Audi        Q3 45 S line Premium Plus        2021    9835.0   \n",
              "5     Acura                         ILX 2.4L        2016  136397.0   \n",
              "6      Audi             S3 2.0T Premium Plus        2017   84000.0   \n",
              "7       BMW                           740 iL        2001  242000.0   \n",
              "8     Lexus                   RC 350 F Sport        2021   23436.0   \n",
              "9     Tesla          Model X Long Range Plus        2020   34000.0   \n",
              "\n",
              "       fuel_type                                             engine  \\\n",
              "0  E85 Flex Fuel  300.0HP 3.7L V6 Cylinder Engine Flex Fuel Capa...   \n",
              "1       Gasoline                               3.8L V6 24V GDI DOHC   \n",
              "2       Gasoline                                     3.5 Liter DOHC   \n",
              "3         Hybrid  354.0HP 3.5L V6 Cylinder Engine Gas/Electric H...   \n",
              "4       Gasoline                         2.0L I4 16V GDI DOHC Turbo   \n",
              "5       Gasoline                                          2.4 Liter   \n",
              "6       Gasoline       292.0HP 2.0L 4 Cylinder Engine Gasoline Fuel   \n",
              "7       Gasoline       282.0HP 4.4L 8 Cylinder Engine Gasoline Fuel   \n",
              "8       Gasoline      311.0HP 3.5L V6 Cylinder Engine Gasoline Fuel   \n",
              "9       Gasoline        534.0HP Electric Motor Electric Fuel System   \n",
              "\n",
              "        transmission                 ext_col int_col  \\\n",
              "0        6-Speed A/T                   Black   Black   \n",
              "1  8-Speed Automatic         Moonlight Cloud    Gray   \n",
              "2          Automatic                    Blue   Black   \n",
              "3        7-Speed A/T                   Black   Black   \n",
              "4  8-Speed Automatic  Glacier White Metallic   Black   \n",
              "5                  F                  Silver  Ebony.   \n",
              "6        6-Speed A/T                    Blue   Black   \n",
              "7                A/T                   Green   Green   \n",
              "8        6-Speed A/T                   Black   Black   \n",
              "9                A/T                   Black   Black   \n",
              "\n",
              "                                 accident clean_title    price  \n",
              "0  At least 1 accident or damage reported         Yes  10300.0  \n",
              "1  At least 1 accident or damage reported         Yes  38005.0  \n",
              "2                           None reported          no  54598.0  \n",
              "3                           None reported         Yes  15500.0  \n",
              "4                           None reported          no  34999.0  \n",
              "5                           None reported          no  14798.0  \n",
              "6                           None reported         Yes  31000.0  \n",
              "7                           None reported         Yes   7300.0  \n",
              "8                           None reported         Yes  41927.0  \n",
              "9                           None reported         Yes  69950.0  "
            ],
            "text/html": [
              "\n",
              "  <div id=\"df-6812f6de-4647-4733-a65f-4c80ddaa6b46\" class=\"colab-df-container\">\n",
              "    <div>\n",
              "<style scoped>\n",
              "    .dataframe tbody tr th:only-of-type {\n",
              "        vertical-align: middle;\n",
              "    }\n",
              "\n",
              "    .dataframe tbody tr th {\n",
              "        vertical-align: top;\n",
              "    }\n",
              "\n",
              "    .dataframe thead th {\n",
              "        text-align: right;\n",
              "    }\n",
              "</style>\n",
              "<table border=\"1\" class=\"dataframe\">\n",
              "  <thead>\n",
              "    <tr style=\"text-align: right;\">\n",
              "      <th></th>\n",
              "      <th>brand</th>\n",
              "      <th>model</th>\n",
              "      <th>model_year</th>\n",
              "      <th>milage</th>\n",
              "      <th>fuel_type</th>\n",
              "      <th>engine</th>\n",
              "      <th>transmission</th>\n",
              "      <th>ext_col</th>\n",
              "      <th>int_col</th>\n",
              "      <th>accident</th>\n",
              "      <th>clean_title</th>\n",
              "      <th>price</th>\n",
              "    </tr>\n",
              "  </thead>\n",
              "  <tbody>\n",
              "    <tr>\n",
              "      <th>0</th>\n",
              "      <td>Ford</td>\n",
              "      <td>Utility Police Interceptor Base</td>\n",
              "      <td>2013</td>\n",
              "      <td>51000.0</td>\n",
              "      <td>E85 Flex Fuel</td>\n",
              "      <td>300.0HP 3.7L V6 Cylinder Engine Flex Fuel Capa...</td>\n",
              "      <td>6-Speed A/T</td>\n",
              "      <td>Black</td>\n",
              "      <td>Black</td>\n",
              "      <td>At least 1 accident or damage reported</td>\n",
              "      <td>Yes</td>\n",
              "      <td>10300.0</td>\n",
              "    </tr>\n",
              "    <tr>\n",
              "      <th>1</th>\n",
              "      <td>Hyundai</td>\n",
              "      <td>Palisade SEL</td>\n",
              "      <td>2021</td>\n",
              "      <td>34742.0</td>\n",
              "      <td>Gasoline</td>\n",
              "      <td>3.8L V6 24V GDI DOHC</td>\n",
              "      <td>8-Speed Automatic</td>\n",
              "      <td>Moonlight Cloud</td>\n",
              "      <td>Gray</td>\n",
              "      <td>At least 1 accident or damage reported</td>\n",
              "      <td>Yes</td>\n",
              "      <td>38005.0</td>\n",
              "    </tr>\n",
              "    <tr>\n",
              "      <th>2</th>\n",
              "      <td>Lexus</td>\n",
              "      <td>RX 350 RX 350</td>\n",
              "      <td>2022</td>\n",
              "      <td>22372.0</td>\n",
              "      <td>Gasoline</td>\n",
              "      <td>3.5 Liter DOHC</td>\n",
              "      <td>Automatic</td>\n",
              "      <td>Blue</td>\n",
              "      <td>Black</td>\n",
              "      <td>None reported</td>\n",
              "      <td>no</td>\n",
              "      <td>54598.0</td>\n",
              "    </tr>\n",
              "    <tr>\n",
              "      <th>3</th>\n",
              "      <td>INFINITI</td>\n",
              "      <td>Q50 Hybrid Sport</td>\n",
              "      <td>2015</td>\n",
              "      <td>88900.0</td>\n",
              "      <td>Hybrid</td>\n",
              "      <td>354.0HP 3.5L V6 Cylinder Engine Gas/Electric H...</td>\n",
              "      <td>7-Speed A/T</td>\n",
              "      <td>Black</td>\n",
              "      <td>Black</td>\n",
              "      <td>None reported</td>\n",
              "      <td>Yes</td>\n",
              "      <td>15500.0</td>\n",
              "    </tr>\n",
              "    <tr>\n",
              "      <th>4</th>\n",
              "      <td>Audi</td>\n",
              "      <td>Q3 45 S line Premium Plus</td>\n",
              "      <td>2021</td>\n",
              "      <td>9835.0</td>\n",
              "      <td>Gasoline</td>\n",
              "      <td>2.0L I4 16V GDI DOHC Turbo</td>\n",
              "      <td>8-Speed Automatic</td>\n",
              "      <td>Glacier White Metallic</td>\n",
              "      <td>Black</td>\n",
              "      <td>None reported</td>\n",
              "      <td>no</td>\n",
              "      <td>34999.0</td>\n",
              "    </tr>\n",
              "    <tr>\n",
              "      <th>5</th>\n",
              "      <td>Acura</td>\n",
              "      <td>ILX 2.4L</td>\n",
              "      <td>2016</td>\n",
              "      <td>136397.0</td>\n",
              "      <td>Gasoline</td>\n",
              "      <td>2.4 Liter</td>\n",
              "      <td>F</td>\n",
              "      <td>Silver</td>\n",
              "      <td>Ebony.</td>\n",
              "      <td>None reported</td>\n",
              "      <td>no</td>\n",
              "      <td>14798.0</td>\n",
              "    </tr>\n",
              "    <tr>\n",
              "      <th>6</th>\n",
              "      <td>Audi</td>\n",
              "      <td>S3 2.0T Premium Plus</td>\n",
              "      <td>2017</td>\n",
              "      <td>84000.0</td>\n",
              "      <td>Gasoline</td>\n",
              "      <td>292.0HP 2.0L 4 Cylinder Engine Gasoline Fuel</td>\n",
              "      <td>6-Speed A/T</td>\n",
              "      <td>Blue</td>\n",
              "      <td>Black</td>\n",
              "      <td>None reported</td>\n",
              "      <td>Yes</td>\n",
              "      <td>31000.0</td>\n",
              "    </tr>\n",
              "    <tr>\n",
              "      <th>7</th>\n",
              "      <td>BMW</td>\n",
              "      <td>740 iL</td>\n",
              "      <td>2001</td>\n",
              "      <td>242000.0</td>\n",
              "      <td>Gasoline</td>\n",
              "      <td>282.0HP 4.4L 8 Cylinder Engine Gasoline Fuel</td>\n",
              "      <td>A/T</td>\n",
              "      <td>Green</td>\n",
              "      <td>Green</td>\n",
              "      <td>None reported</td>\n",
              "      <td>Yes</td>\n",
              "      <td>7300.0</td>\n",
              "    </tr>\n",
              "    <tr>\n",
              "      <th>8</th>\n",
              "      <td>Lexus</td>\n",
              "      <td>RC 350 F Sport</td>\n",
              "      <td>2021</td>\n",
              "      <td>23436.0</td>\n",
              "      <td>Gasoline</td>\n",
              "      <td>311.0HP 3.5L V6 Cylinder Engine Gasoline Fuel</td>\n",
              "      <td>6-Speed A/T</td>\n",
              "      <td>Black</td>\n",
              "      <td>Black</td>\n",
              "      <td>None reported</td>\n",
              "      <td>Yes</td>\n",
              "      <td>41927.0</td>\n",
              "    </tr>\n",
              "    <tr>\n",
              "      <th>9</th>\n",
              "      <td>Tesla</td>\n",
              "      <td>Model X Long Range Plus</td>\n",
              "      <td>2020</td>\n",
              "      <td>34000.0</td>\n",
              "      <td>Gasoline</td>\n",
              "      <td>534.0HP Electric Motor Electric Fuel System</td>\n",
              "      <td>A/T</td>\n",
              "      <td>Black</td>\n",
              "      <td>Black</td>\n",
              "      <td>None reported</td>\n",
              "      <td>Yes</td>\n",
              "      <td>69950.0</td>\n",
              "    </tr>\n",
              "  </tbody>\n",
              "</table>\n",
              "</div>\n",
              "    <div class=\"colab-df-buttons\">\n",
              "\n",
              "  <div class=\"colab-df-container\">\n",
              "    <button class=\"colab-df-convert\" onclick=\"convertToInteractive('df-6812f6de-4647-4733-a65f-4c80ddaa6b46')\"\n",
              "            title=\"Convert this dataframe to an interactive table.\"\n",
              "            style=\"display:none;\">\n",
              "\n",
              "  <svg xmlns=\"http://www.w3.org/2000/svg\" height=\"24px\" viewBox=\"0 -960 960 960\">\n",
              "    <path d=\"M120-120v-720h720v720H120Zm60-500h600v-160H180v160Zm220 220h160v-160H400v160Zm0 220h160v-160H400v160ZM180-400h160v-160H180v160Zm440 0h160v-160H620v160ZM180-180h160v-160H180v160Zm440 0h160v-160H620v160Z\"/>\n",
              "  </svg>\n",
              "    </button>\n",
              "\n",
              "  <style>\n",
              "    .colab-df-container {\n",
              "      display:flex;\n",
              "      gap: 12px;\n",
              "    }\n",
              "\n",
              "    .colab-df-convert {\n",
              "      background-color: #E8F0FE;\n",
              "      border: none;\n",
              "      border-radius: 50%;\n",
              "      cursor: pointer;\n",
              "      display: none;\n",
              "      fill: #1967D2;\n",
              "      height: 32px;\n",
              "      padding: 0 0 0 0;\n",
              "      width: 32px;\n",
              "    }\n",
              "\n",
              "    .colab-df-convert:hover {\n",
              "      background-color: #E2EBFA;\n",
              "      box-shadow: 0px 1px 2px rgba(60, 64, 67, 0.3), 0px 1px 3px 1px rgba(60, 64, 67, 0.15);\n",
              "      fill: #174EA6;\n",
              "    }\n",
              "\n",
              "    .colab-df-buttons div {\n",
              "      margin-bottom: 4px;\n",
              "    }\n",
              "\n",
              "    [theme=dark] .colab-df-convert {\n",
              "      background-color: #3B4455;\n",
              "      fill: #D2E3FC;\n",
              "    }\n",
              "\n",
              "    [theme=dark] .colab-df-convert:hover {\n",
              "      background-color: #434B5C;\n",
              "      box-shadow: 0px 1px 3px 1px rgba(0, 0, 0, 0.15);\n",
              "      filter: drop-shadow(0px 1px 2px rgba(0, 0, 0, 0.3));\n",
              "      fill: #FFFFFF;\n",
              "    }\n",
              "  </style>\n",
              "\n",
              "    <script>\n",
              "      const buttonEl =\n",
              "        document.querySelector('#df-6812f6de-4647-4733-a65f-4c80ddaa6b46 button.colab-df-convert');\n",
              "      buttonEl.style.display =\n",
              "        google.colab.kernel.accessAllowed ? 'block' : 'none';\n",
              "\n",
              "      async function convertToInteractive(key) {\n",
              "        const element = document.querySelector('#df-6812f6de-4647-4733-a65f-4c80ddaa6b46');\n",
              "        const dataTable =\n",
              "          await google.colab.kernel.invokeFunction('convertToInteractive',\n",
              "                                                    [key], {});\n",
              "        if (!dataTable) return;\n",
              "\n",
              "        const docLinkHtml = 'Like what you see? Visit the ' +\n",
              "          '<a target=\"_blank\" href=https://colab.research.google.com/notebooks/data_table.ipynb>data table notebook</a>'\n",
              "          + ' to learn more about interactive tables.';\n",
              "        element.innerHTML = '';\n",
              "        dataTable['output_type'] = 'display_data';\n",
              "        await google.colab.output.renderOutput(dataTable, element);\n",
              "        const docLink = document.createElement('div');\n",
              "        docLink.innerHTML = docLinkHtml;\n",
              "        element.appendChild(docLink);\n",
              "      }\n",
              "    </script>\n",
              "  </div>\n",
              "\n",
              "\n",
              "<div id=\"df-4f27ed62-396e-4c18-baf5-c944eaa3ab0b\">\n",
              "  <button class=\"colab-df-quickchart\" onclick=\"quickchart('df-4f27ed62-396e-4c18-baf5-c944eaa3ab0b')\"\n",
              "            title=\"Suggest charts\"\n",
              "            style=\"display:none;\">\n",
              "\n",
              "<svg xmlns=\"http://www.w3.org/2000/svg\" height=\"24px\"viewBox=\"0 0 24 24\"\n",
              "     width=\"24px\">\n",
              "    <g>\n",
              "        <path d=\"M19 3H5c-1.1 0-2 .9-2 2v14c0 1.1.9 2 2 2h14c1.1 0 2-.9 2-2V5c0-1.1-.9-2-2-2zM9 17H7v-7h2v7zm4 0h-2V7h2v10zm4 0h-2v-4h2v4z\"/>\n",
              "    </g>\n",
              "</svg>\n",
              "  </button>\n",
              "\n",
              "<style>\n",
              "  .colab-df-quickchart {\n",
              "      --bg-color: #E8F0FE;\n",
              "      --fill-color: #1967D2;\n",
              "      --hover-bg-color: #E2EBFA;\n",
              "      --hover-fill-color: #174EA6;\n",
              "      --disabled-fill-color: #AAA;\n",
              "      --disabled-bg-color: #DDD;\n",
              "  }\n",
              "\n",
              "  [theme=dark] .colab-df-quickchart {\n",
              "      --bg-color: #3B4455;\n",
              "      --fill-color: #D2E3FC;\n",
              "      --hover-bg-color: #434B5C;\n",
              "      --hover-fill-color: #FFFFFF;\n",
              "      --disabled-bg-color: #3B4455;\n",
              "      --disabled-fill-color: #666;\n",
              "  }\n",
              "\n",
              "  .colab-df-quickchart {\n",
              "    background-color: var(--bg-color);\n",
              "    border: none;\n",
              "    border-radius: 50%;\n",
              "    cursor: pointer;\n",
              "    display: none;\n",
              "    fill: var(--fill-color);\n",
              "    height: 32px;\n",
              "    padding: 0;\n",
              "    width: 32px;\n",
              "  }\n",
              "\n",
              "  .colab-df-quickchart:hover {\n",
              "    background-color: var(--hover-bg-color);\n",
              "    box-shadow: 0 1px 2px rgba(60, 64, 67, 0.3), 0 1px 3px 1px rgba(60, 64, 67, 0.15);\n",
              "    fill: var(--button-hover-fill-color);\n",
              "  }\n",
              "\n",
              "  .colab-df-quickchart-complete:disabled,\n",
              "  .colab-df-quickchart-complete:disabled:hover {\n",
              "    background-color: var(--disabled-bg-color);\n",
              "    fill: var(--disabled-fill-color);\n",
              "    box-shadow: none;\n",
              "  }\n",
              "\n",
              "  .colab-df-spinner {\n",
              "    border: 2px solid var(--fill-color);\n",
              "    border-color: transparent;\n",
              "    border-bottom-color: var(--fill-color);\n",
              "    animation:\n",
              "      spin 1s steps(1) infinite;\n",
              "  }\n",
              "\n",
              "  @keyframes spin {\n",
              "    0% {\n",
              "      border-color: transparent;\n",
              "      border-bottom-color: var(--fill-color);\n",
              "      border-left-color: var(--fill-color);\n",
              "    }\n",
              "    20% {\n",
              "      border-color: transparent;\n",
              "      border-left-color: var(--fill-color);\n",
              "      border-top-color: var(--fill-color);\n",
              "    }\n",
              "    30% {\n",
              "      border-color: transparent;\n",
              "      border-left-color: var(--fill-color);\n",
              "      border-top-color: var(--fill-color);\n",
              "      border-right-color: var(--fill-color);\n",
              "    }\n",
              "    40% {\n",
              "      border-color: transparent;\n",
              "      border-right-color: var(--fill-color);\n",
              "      border-top-color: var(--fill-color);\n",
              "    }\n",
              "    60% {\n",
              "      border-color: transparent;\n",
              "      border-right-color: var(--fill-color);\n",
              "    }\n",
              "    80% {\n",
              "      border-color: transparent;\n",
              "      border-right-color: var(--fill-color);\n",
              "      border-bottom-color: var(--fill-color);\n",
              "    }\n",
              "    90% {\n",
              "      border-color: transparent;\n",
              "      border-bottom-color: var(--fill-color);\n",
              "    }\n",
              "  }\n",
              "</style>\n",
              "\n",
              "  <script>\n",
              "    async function quickchart(key) {\n",
              "      const quickchartButtonEl =\n",
              "        document.querySelector('#' + key + ' button');\n",
              "      quickchartButtonEl.disabled = true;  // To prevent multiple clicks.\n",
              "      quickchartButtonEl.classList.add('colab-df-spinner');\n",
              "      try {\n",
              "        const charts = await google.colab.kernel.invokeFunction(\n",
              "            'suggestCharts', [key], {});\n",
              "      } catch (error) {\n",
              "        console.error('Error during call to suggestCharts:', error);\n",
              "      }\n",
              "      quickchartButtonEl.classList.remove('colab-df-spinner');\n",
              "      quickchartButtonEl.classList.add('colab-df-quickchart-complete');\n",
              "    }\n",
              "    (() => {\n",
              "      let quickchartButtonEl =\n",
              "        document.querySelector('#df-4f27ed62-396e-4c18-baf5-c944eaa3ab0b button');\n",
              "      quickchartButtonEl.style.display =\n",
              "        google.colab.kernel.accessAllowed ? 'block' : 'none';\n",
              "    })();\n",
              "  </script>\n",
              "</div>\n",
              "\n",
              "    </div>\n",
              "  </div>\n"
            ],
            "application/vnd.google.colaboratory.intrinsic+json": {
              "type": "dataframe",
              "variable_name": "df",
              "summary": "{\n  \"name\": \"df\",\n  \"rows\": 4009,\n  \"fields\": [\n    {\n      \"column\": \"brand\",\n      \"properties\": {\n        \"dtype\": \"category\",\n        \"num_unique_values\": 57,\n        \"samples\": [\n          \"Ford\",\n          \"Acura\",\n          \"Maserati\"\n        ],\n        \"semantic_type\": \"\",\n        \"description\": \"\"\n      }\n    },\n    {\n      \"column\": \"model\",\n      \"properties\": {\n        \"dtype\": \"category\",\n        \"num_unique_values\": 1898,\n        \"samples\": [\n          \"Expedition King Ranch\",\n          \"Outback 3.0 R VDC Limited\",\n          \"AMG GLC 43 AMG GLC 43\"\n        ],\n        \"semantic_type\": \"\",\n        \"description\": \"\"\n      }\n    },\n    {\n      \"column\": \"model_year\",\n      \"properties\": {\n        \"dtype\": \"number\",\n        \"std\": 6,\n        \"min\": 1974,\n        \"max\": 2024,\n        \"num_unique_values\": 34,\n        \"samples\": [\n          2012,\n          2009,\n          1998\n        ],\n        \"semantic_type\": \"\",\n        \"description\": \"\"\n      }\n    },\n    {\n      \"column\": \"milage\",\n      \"properties\": {\n        \"dtype\": \"number\",\n        \"std\": 52296.599459442965,\n        \"min\": 100.0,\n        \"max\": 405000.0,\n        \"num_unique_values\": 2818,\n        \"samples\": [\n          8730.0,\n          21404.0,\n          53169.0\n        ],\n        \"semantic_type\": \"\",\n        \"description\": \"\"\n      }\n    },\n    {\n      \"column\": \"fuel_type\",\n      \"properties\": {\n        \"dtype\": \"category\",\n        \"num_unique_values\": 5,\n        \"samples\": [\n          \"Gasoline\",\n          \"Plug-In Hybrid\",\n          \"Hybrid\"\n        ],\n        \"semantic_type\": \"\",\n        \"description\": \"\"\n      }\n    },\n    {\n      \"column\": \"engine\",\n      \"properties\": {\n        \"dtype\": \"category\",\n        \"num_unique_values\": 1146,\n        \"samples\": [\n          \"2.5L I4 16V PDI DOHC Hybrid\",\n          \"330.0HP 2.0L 4 Cylinder Engine Gasoline Fuel\",\n          \"1.6L I4 16V GDI DOHC Turbo\"\n        ],\n        \"semantic_type\": \"\",\n        \"description\": \"\"\n      }\n    },\n    {\n      \"column\": \"transmission\",\n      \"properties\": {\n        \"dtype\": \"category\",\n        \"num_unique_values\": 62,\n        \"samples\": [\n          \"Automatic, 7-Spd S tronic Dual-Clutch\",\n          \"7-Speed DCT Automatic\",\n          \"6-Speed A/T\"\n        ],\n        \"semantic_type\": \"\",\n        \"description\": \"\"\n      }\n    },\n    {\n      \"column\": \"ext_col\",\n      \"properties\": {\n        \"dtype\": \"category\",\n        \"num_unique_values\": 319,\n        \"samples\": [\n          \"Ibis White\",\n          \"Carbonized Gray Metallic\",\n          \"Beige\"\n        ],\n        \"semantic_type\": \"\",\n        \"description\": \"\"\n      }\n    },\n    {\n      \"column\": \"int_col\",\n      \"properties\": {\n        \"dtype\": \"category\",\n        \"num_unique_values\": 156,\n        \"samples\": [\n          \"Slate\",\n          \"Tan\",\n          \"Almond Beige\"\n        ],\n        \"semantic_type\": \"\",\n        \"description\": \"\"\n      }\n    },\n    {\n      \"column\": \"accident\",\n      \"properties\": {\n        \"dtype\": \"category\",\n        \"num_unique_values\": 2,\n        \"samples\": [\n          \"None reported\",\n          \"At least 1 accident or damage reported\"\n        ],\n        \"semantic_type\": \"\",\n        \"description\": \"\"\n      }\n    },\n    {\n      \"column\": \"clean_title\",\n      \"properties\": {\n        \"dtype\": \"category\",\n        \"num_unique_values\": 2,\n        \"samples\": [\n          \"no\",\n          \"Yes\"\n        ],\n        \"semantic_type\": \"\",\n        \"description\": \"\"\n      }\n    },\n    {\n      \"column\": \"price\",\n      \"properties\": {\n        \"dtype\": \"number\",\n        \"std\": 78710.63555418172,\n        \"min\": 2000.0,\n        \"max\": 2954083.0,\n        \"num_unique_values\": 1569,\n        \"samples\": [\n          44600.0,\n          60867.0\n        ],\n        \"semantic_type\": \"\",\n        \"description\": \"\"\n      }\n    }\n  ]\n}"
            }
          },
          "metadata": {},
          "execution_count": 19
        }
      ],
      "source": [
        "df.head(10)"
      ]
    },
    {
      "cell_type": "code",
      "execution_count": 20,
      "metadata": {
        "id": "MuesfHlUfXnT",
        "colab": {
          "base_uri": "https://localhost:8080/"
        },
        "outputId": "b32a2bcc-fbec-43a2-c6ec-9238f71ba66d"
      },
      "outputs": [
        {
          "output_type": "execute_result",
          "data": {
            "text/plain": [
              "array(['Yes', 'no'], dtype=object)"
            ]
          },
          "metadata": {},
          "execution_count": 20
        }
      ],
      "source": [
        "df['clean_title'].unique()"
      ]
    },
    {
      "cell_type": "code",
      "execution_count": 21,
      "metadata": {
        "id": "-WvfJqt6hghi",
        "colab": {
          "base_uri": "https://localhost:8080/"
        },
        "outputId": "a6e5a850-4272-4498-8cce-94c8268514aa"
      },
      "outputs": [
        {
          "output_type": "execute_result",
          "data": {
            "text/plain": [
              "array(['Ford', 'Hyundai', 'Lexus', 'INFINITI', 'Audi', 'Acura', 'BMW',\n",
              "       'Tesla', 'Land', 'Aston', 'Toyota', 'Lincoln', 'Jaguar',\n",
              "       'Mercedes-Benz', 'Dodge', 'Nissan', 'Genesis', 'Chevrolet', 'Kia',\n",
              "       'Jeep', 'Bentley', 'Honda', 'Lucid', 'MINI', 'Porsche', 'Hummer',\n",
              "       'Chrysler', 'Volvo', 'Cadillac', 'Lamborghini', 'Maserati',\n",
              "       'Volkswagen', 'Subaru', 'Rivian', 'GMC', 'RAM', 'Alfa', 'Ferrari',\n",
              "       'Scion', 'Mitsubishi', 'Mazda', 'Saturn', 'Bugatti', 'Polestar',\n",
              "       'Rolls-Royce', 'McLaren', 'Buick', 'Lotus', 'Pontiac', 'FIAT',\n",
              "       'Karma', 'Saab', 'Mercury', 'Plymouth', 'smart', 'Maybach',\n",
              "       'Suzuki'], dtype=object)"
            ]
          },
          "metadata": {},
          "execution_count": 21
        }
      ],
      "source": [
        "df['brand'].unique()"
      ]
    },
    {
      "cell_type": "code",
      "execution_count": 22,
      "metadata": {
        "id": "OSyoOEzFh1x7"
      },
      "outputs": [],
      "source": [
        "# Encode 'clean_title' column with 1 for 'Yes' and 0 for 'Missing'\n",
        "df['clean_title_ecnoded'] = df['clean_title'].map({\n",
        "    'Yes': 1,\n",
        "    'Missing': 0\n",
        "}).fillna(0).astype(int)\n"
      ]
    },
    {
      "cell_type": "code",
      "execution_count": 23,
      "metadata": {
        "id": "mNskE8W_iYUs"
      },
      "outputs": [],
      "source": [
        "df['fuel_type_encoded'] = df['fuel_type'].astype('category').cat.codes\n"
      ]
    },
    {
      "cell_type": "code",
      "execution_count": 24,
      "metadata": {
        "id": "XdANdjxHke-E"
      },
      "outputs": [],
      "source": [
        "df['accident_encoded'] = df['accident'].map({\n",
        "    'At least 1 accident or damage reported': 1,\n",
        "    'None reported': 0\n",
        "})"
      ]
    },
    {
      "cell_type": "code",
      "execution_count": 25,
      "metadata": {
        "id": "Sl6mCYaalMCR"
      },
      "outputs": [],
      "source": [
        "scaler = MinMaxScaler()\n",
        "\n",
        "# Apply Min-Max Scaling to 'price' and 'milage'\n",
        "df[['price_norm', 'milage_norm']] = scaler.fit_transform(df[['price', 'milage']])"
      ]
    },
    {
      "cell_type": "markdown",
      "metadata": {
        "id": "lSZzxlZMezxB"
      },
      "source": [
        "###feature engineering"
      ]
    },
    {
      "cell_type": "markdown",
      "source": [
        "Feature engineering is a critical step in data preprocessing that involves transforming raw data into meaningful features to improve model performance. This process helps highlight important patterns, reduces noise, and allows machine learning models to better understand the underlying data. Here are some key feature engineering techniques applied to the dataset:"
      ],
      "metadata": {
        "id": "CyCkWnW2jG0D"
      }
    },
    {
      "cell_type": "markdown",
      "metadata": {
        "id": "cYlLU9J10HtR"
      },
      "source": [
        "1- Binning/Grouping Numerical Features"
      ]
    },
    {
      "cell_type": "markdown",
      "metadata": {
        "id": "fFQ5A0DU0yQi"
      },
      "source": [
        "Binning Mileage: Instead of using raw mileage,we will  group cars into mileage bins (e.g., 0-25,000 miles, 25,001-50,000 miles, etc.) to reduce the variability and make the model capture trends better."
      ]
    },
    {
      "cell_type": "code",
      "execution_count": 26,
      "metadata": {
        "id": "y1T3yd-u0MhW"
      },
      "outputs": [],
      "source": [
        "mileage_bins = [0, 25000, 50000, 75000, 100000, 150000, 200000]\n",
        "df['mileage_bin'] = pd.cut(df['milage'], bins=mileage_bins, labels=['0-25k', '25k-50k', '50k-75k', '75k-100k', '100k-150k', '150k+'])\n"
      ]
    },
    {
      "cell_type": "markdown",
      "metadata": {
        "id": "nriTLueb0lB4"
      },
      "source": [
        "Binning Price: Group cars into price ranges (e.g., budget, mid-range, luxury) based on thresholds."
      ]
    },
    {
      "cell_type": "code",
      "execution_count": 27,
      "metadata": {
        "id": "esuKlsld0_ko"
      },
      "outputs": [],
      "source": [
        "price_bins = [0, 20000, 50000, 100000, 200000, df['price'].max()]\n",
        "df['price_category'] = pd.cut(df['price'], bins=price_bins, labels=['Budget', 'Mid-range', 'Premium', 'Luxury', 'Super Luxury'])\n"
      ]
    },
    {
      "cell_type": "code",
      "source": [
        "# Encode 'price_category' column\n",
        "df['price_category_encoded'] = df['price_category'].astype('category').cat.codes\n",
        "\n",
        "# Encode 'mileage_bin' column\n",
        "df['mileage_bin_encoded'] = df['mileage_bin'].astype('category').cat.codes"
      ],
      "metadata": {
        "id": "G9p_qcYASKKA"
      },
      "execution_count": 28,
      "outputs": []
    },
    {
      "cell_type": "code",
      "execution_count": 29,
      "metadata": {
        "id": "71FYUcLV0USn",
        "colab": {
          "base_uri": "https://localhost:8080/",
          "height": 550
        },
        "outputId": "d0145979-f0e2-4217-96ad-690f49286a5d"
      },
      "outputs": [
        {
          "output_type": "execute_result",
          "data": {
            "text/plain": [
              "      brand                            model  model_year   milage  \\\n",
              "0      Ford  Utility Police Interceptor Base        2013  51000.0   \n",
              "1   Hyundai                     Palisade SEL        2021  34742.0   \n",
              "2     Lexus                    RX 350 RX 350        2022  22372.0   \n",
              "3  INFINITI                 Q50 Hybrid Sport        2015  88900.0   \n",
              "4      Audi        Q3 45 S line Premium Plus        2021   9835.0   \n",
              "\n",
              "       fuel_type                                             engine  \\\n",
              "0  E85 Flex Fuel  300.0HP 3.7L V6 Cylinder Engine Flex Fuel Capa...   \n",
              "1       Gasoline                               3.8L V6 24V GDI DOHC   \n",
              "2       Gasoline                                     3.5 Liter DOHC   \n",
              "3         Hybrid  354.0HP 3.5L V6 Cylinder Engine Gas/Electric H...   \n",
              "4       Gasoline                         2.0L I4 16V GDI DOHC Turbo   \n",
              "\n",
              "        transmission                 ext_col int_col  \\\n",
              "0        6-Speed A/T                   Black   Black   \n",
              "1  8-Speed Automatic         Moonlight Cloud    Gray   \n",
              "2          Automatic                    Blue   Black   \n",
              "3        7-Speed A/T                   Black   Black   \n",
              "4  8-Speed Automatic  Glacier White Metallic   Black   \n",
              "\n",
              "                                 accident  ...    price  clean_title_ecnoded  \\\n",
              "0  At least 1 accident or damage reported  ...  10300.0                    1   \n",
              "1  At least 1 accident or damage reported  ...  38005.0                    1   \n",
              "2                           None reported  ...  54598.0                    0   \n",
              "3                           None reported  ...  15500.0                    1   \n",
              "4                           None reported  ...  34999.0                    0   \n",
              "\n",
              "   fuel_type_encoded  accident_encoded  price_norm  milage_norm  mileage_bin  \\\n",
              "0                  1                 1    0.002812     0.125710      50k-75k   \n",
              "1                  2                 1    0.012196     0.085557      25k-50k   \n",
              "2                  2                 0    0.017817     0.055006        0-25k   \n",
              "3                  3                 0    0.004573     0.219313     75k-100k   \n",
              "4                  2                 0    0.011178     0.024043        0-25k   \n",
              "\n",
              "  price_category price_category_encoded  mileage_bin_encoded  \n",
              "0         Budget                      0                    2  \n",
              "1      Mid-range                      1                    1  \n",
              "2        Premium                      2                    0  \n",
              "3         Budget                      0                    3  \n",
              "4      Mid-range                      1                    0  \n",
              "\n",
              "[5 rows x 21 columns]"
            ],
            "text/html": [
              "\n",
              "  <div id=\"df-8076b3e3-1e5d-44e1-9351-ad621bf7ec37\" class=\"colab-df-container\">\n",
              "    <div>\n",
              "<style scoped>\n",
              "    .dataframe tbody tr th:only-of-type {\n",
              "        vertical-align: middle;\n",
              "    }\n",
              "\n",
              "    .dataframe tbody tr th {\n",
              "        vertical-align: top;\n",
              "    }\n",
              "\n",
              "    .dataframe thead th {\n",
              "        text-align: right;\n",
              "    }\n",
              "</style>\n",
              "<table border=\"1\" class=\"dataframe\">\n",
              "  <thead>\n",
              "    <tr style=\"text-align: right;\">\n",
              "      <th></th>\n",
              "      <th>brand</th>\n",
              "      <th>model</th>\n",
              "      <th>model_year</th>\n",
              "      <th>milage</th>\n",
              "      <th>fuel_type</th>\n",
              "      <th>engine</th>\n",
              "      <th>transmission</th>\n",
              "      <th>ext_col</th>\n",
              "      <th>int_col</th>\n",
              "      <th>accident</th>\n",
              "      <th>...</th>\n",
              "      <th>price</th>\n",
              "      <th>clean_title_ecnoded</th>\n",
              "      <th>fuel_type_encoded</th>\n",
              "      <th>accident_encoded</th>\n",
              "      <th>price_norm</th>\n",
              "      <th>milage_norm</th>\n",
              "      <th>mileage_bin</th>\n",
              "      <th>price_category</th>\n",
              "      <th>price_category_encoded</th>\n",
              "      <th>mileage_bin_encoded</th>\n",
              "    </tr>\n",
              "  </thead>\n",
              "  <tbody>\n",
              "    <tr>\n",
              "      <th>0</th>\n",
              "      <td>Ford</td>\n",
              "      <td>Utility Police Interceptor Base</td>\n",
              "      <td>2013</td>\n",
              "      <td>51000.0</td>\n",
              "      <td>E85 Flex Fuel</td>\n",
              "      <td>300.0HP 3.7L V6 Cylinder Engine Flex Fuel Capa...</td>\n",
              "      <td>6-Speed A/T</td>\n",
              "      <td>Black</td>\n",
              "      <td>Black</td>\n",
              "      <td>At least 1 accident or damage reported</td>\n",
              "      <td>...</td>\n",
              "      <td>10300.0</td>\n",
              "      <td>1</td>\n",
              "      <td>1</td>\n",
              "      <td>1</td>\n",
              "      <td>0.002812</td>\n",
              "      <td>0.125710</td>\n",
              "      <td>50k-75k</td>\n",
              "      <td>Budget</td>\n",
              "      <td>0</td>\n",
              "      <td>2</td>\n",
              "    </tr>\n",
              "    <tr>\n",
              "      <th>1</th>\n",
              "      <td>Hyundai</td>\n",
              "      <td>Palisade SEL</td>\n",
              "      <td>2021</td>\n",
              "      <td>34742.0</td>\n",
              "      <td>Gasoline</td>\n",
              "      <td>3.8L V6 24V GDI DOHC</td>\n",
              "      <td>8-Speed Automatic</td>\n",
              "      <td>Moonlight Cloud</td>\n",
              "      <td>Gray</td>\n",
              "      <td>At least 1 accident or damage reported</td>\n",
              "      <td>...</td>\n",
              "      <td>38005.0</td>\n",
              "      <td>1</td>\n",
              "      <td>2</td>\n",
              "      <td>1</td>\n",
              "      <td>0.012196</td>\n",
              "      <td>0.085557</td>\n",
              "      <td>25k-50k</td>\n",
              "      <td>Mid-range</td>\n",
              "      <td>1</td>\n",
              "      <td>1</td>\n",
              "    </tr>\n",
              "    <tr>\n",
              "      <th>2</th>\n",
              "      <td>Lexus</td>\n",
              "      <td>RX 350 RX 350</td>\n",
              "      <td>2022</td>\n",
              "      <td>22372.0</td>\n",
              "      <td>Gasoline</td>\n",
              "      <td>3.5 Liter DOHC</td>\n",
              "      <td>Automatic</td>\n",
              "      <td>Blue</td>\n",
              "      <td>Black</td>\n",
              "      <td>None reported</td>\n",
              "      <td>...</td>\n",
              "      <td>54598.0</td>\n",
              "      <td>0</td>\n",
              "      <td>2</td>\n",
              "      <td>0</td>\n",
              "      <td>0.017817</td>\n",
              "      <td>0.055006</td>\n",
              "      <td>0-25k</td>\n",
              "      <td>Premium</td>\n",
              "      <td>2</td>\n",
              "      <td>0</td>\n",
              "    </tr>\n",
              "    <tr>\n",
              "      <th>3</th>\n",
              "      <td>INFINITI</td>\n",
              "      <td>Q50 Hybrid Sport</td>\n",
              "      <td>2015</td>\n",
              "      <td>88900.0</td>\n",
              "      <td>Hybrid</td>\n",
              "      <td>354.0HP 3.5L V6 Cylinder Engine Gas/Electric H...</td>\n",
              "      <td>7-Speed A/T</td>\n",
              "      <td>Black</td>\n",
              "      <td>Black</td>\n",
              "      <td>None reported</td>\n",
              "      <td>...</td>\n",
              "      <td>15500.0</td>\n",
              "      <td>1</td>\n",
              "      <td>3</td>\n",
              "      <td>0</td>\n",
              "      <td>0.004573</td>\n",
              "      <td>0.219313</td>\n",
              "      <td>75k-100k</td>\n",
              "      <td>Budget</td>\n",
              "      <td>0</td>\n",
              "      <td>3</td>\n",
              "    </tr>\n",
              "    <tr>\n",
              "      <th>4</th>\n",
              "      <td>Audi</td>\n",
              "      <td>Q3 45 S line Premium Plus</td>\n",
              "      <td>2021</td>\n",
              "      <td>9835.0</td>\n",
              "      <td>Gasoline</td>\n",
              "      <td>2.0L I4 16V GDI DOHC Turbo</td>\n",
              "      <td>8-Speed Automatic</td>\n",
              "      <td>Glacier White Metallic</td>\n",
              "      <td>Black</td>\n",
              "      <td>None reported</td>\n",
              "      <td>...</td>\n",
              "      <td>34999.0</td>\n",
              "      <td>0</td>\n",
              "      <td>2</td>\n",
              "      <td>0</td>\n",
              "      <td>0.011178</td>\n",
              "      <td>0.024043</td>\n",
              "      <td>0-25k</td>\n",
              "      <td>Mid-range</td>\n",
              "      <td>1</td>\n",
              "      <td>0</td>\n",
              "    </tr>\n",
              "  </tbody>\n",
              "</table>\n",
              "<p>5 rows × 21 columns</p>\n",
              "</div>\n",
              "    <div class=\"colab-df-buttons\">\n",
              "\n",
              "  <div class=\"colab-df-container\">\n",
              "    <button class=\"colab-df-convert\" onclick=\"convertToInteractive('df-8076b3e3-1e5d-44e1-9351-ad621bf7ec37')\"\n",
              "            title=\"Convert this dataframe to an interactive table.\"\n",
              "            style=\"display:none;\">\n",
              "\n",
              "  <svg xmlns=\"http://www.w3.org/2000/svg\" height=\"24px\" viewBox=\"0 -960 960 960\">\n",
              "    <path d=\"M120-120v-720h720v720H120Zm60-500h600v-160H180v160Zm220 220h160v-160H400v160Zm0 220h160v-160H400v160ZM180-400h160v-160H180v160Zm440 0h160v-160H620v160ZM180-180h160v-160H180v160Zm440 0h160v-160H620v160Z\"/>\n",
              "  </svg>\n",
              "    </button>\n",
              "\n",
              "  <style>\n",
              "    .colab-df-container {\n",
              "      display:flex;\n",
              "      gap: 12px;\n",
              "    }\n",
              "\n",
              "    .colab-df-convert {\n",
              "      background-color: #E8F0FE;\n",
              "      border: none;\n",
              "      border-radius: 50%;\n",
              "      cursor: pointer;\n",
              "      display: none;\n",
              "      fill: #1967D2;\n",
              "      height: 32px;\n",
              "      padding: 0 0 0 0;\n",
              "      width: 32px;\n",
              "    }\n",
              "\n",
              "    .colab-df-convert:hover {\n",
              "      background-color: #E2EBFA;\n",
              "      box-shadow: 0px 1px 2px rgba(60, 64, 67, 0.3), 0px 1px 3px 1px rgba(60, 64, 67, 0.15);\n",
              "      fill: #174EA6;\n",
              "    }\n",
              "\n",
              "    .colab-df-buttons div {\n",
              "      margin-bottom: 4px;\n",
              "    }\n",
              "\n",
              "    [theme=dark] .colab-df-convert {\n",
              "      background-color: #3B4455;\n",
              "      fill: #D2E3FC;\n",
              "    }\n",
              "\n",
              "    [theme=dark] .colab-df-convert:hover {\n",
              "      background-color: #434B5C;\n",
              "      box-shadow: 0px 1px 3px 1px rgba(0, 0, 0, 0.15);\n",
              "      filter: drop-shadow(0px 1px 2px rgba(0, 0, 0, 0.3));\n",
              "      fill: #FFFFFF;\n",
              "    }\n",
              "  </style>\n",
              "\n",
              "    <script>\n",
              "      const buttonEl =\n",
              "        document.querySelector('#df-8076b3e3-1e5d-44e1-9351-ad621bf7ec37 button.colab-df-convert');\n",
              "      buttonEl.style.display =\n",
              "        google.colab.kernel.accessAllowed ? 'block' : 'none';\n",
              "\n",
              "      async function convertToInteractive(key) {\n",
              "        const element = document.querySelector('#df-8076b3e3-1e5d-44e1-9351-ad621bf7ec37');\n",
              "        const dataTable =\n",
              "          await google.colab.kernel.invokeFunction('convertToInteractive',\n",
              "                                                    [key], {});\n",
              "        if (!dataTable) return;\n",
              "\n",
              "        const docLinkHtml = 'Like what you see? Visit the ' +\n",
              "          '<a target=\"_blank\" href=https://colab.research.google.com/notebooks/data_table.ipynb>data table notebook</a>'\n",
              "          + ' to learn more about interactive tables.';\n",
              "        element.innerHTML = '';\n",
              "        dataTable['output_type'] = 'display_data';\n",
              "        await google.colab.output.renderOutput(dataTable, element);\n",
              "        const docLink = document.createElement('div');\n",
              "        docLink.innerHTML = docLinkHtml;\n",
              "        element.appendChild(docLink);\n",
              "      }\n",
              "    </script>\n",
              "  </div>\n",
              "\n",
              "\n",
              "<div id=\"df-ffa75a95-058f-4512-b7b5-4fb10e34478c\">\n",
              "  <button class=\"colab-df-quickchart\" onclick=\"quickchart('df-ffa75a95-058f-4512-b7b5-4fb10e34478c')\"\n",
              "            title=\"Suggest charts\"\n",
              "            style=\"display:none;\">\n",
              "\n",
              "<svg xmlns=\"http://www.w3.org/2000/svg\" height=\"24px\"viewBox=\"0 0 24 24\"\n",
              "     width=\"24px\">\n",
              "    <g>\n",
              "        <path d=\"M19 3H5c-1.1 0-2 .9-2 2v14c0 1.1.9 2 2 2h14c1.1 0 2-.9 2-2V5c0-1.1-.9-2-2-2zM9 17H7v-7h2v7zm4 0h-2V7h2v10zm4 0h-2v-4h2v4z\"/>\n",
              "    </g>\n",
              "</svg>\n",
              "  </button>\n",
              "\n",
              "<style>\n",
              "  .colab-df-quickchart {\n",
              "      --bg-color: #E8F0FE;\n",
              "      --fill-color: #1967D2;\n",
              "      --hover-bg-color: #E2EBFA;\n",
              "      --hover-fill-color: #174EA6;\n",
              "      --disabled-fill-color: #AAA;\n",
              "      --disabled-bg-color: #DDD;\n",
              "  }\n",
              "\n",
              "  [theme=dark] .colab-df-quickchart {\n",
              "      --bg-color: #3B4455;\n",
              "      --fill-color: #D2E3FC;\n",
              "      --hover-bg-color: #434B5C;\n",
              "      --hover-fill-color: #FFFFFF;\n",
              "      --disabled-bg-color: #3B4455;\n",
              "      --disabled-fill-color: #666;\n",
              "  }\n",
              "\n",
              "  .colab-df-quickchart {\n",
              "    background-color: var(--bg-color);\n",
              "    border: none;\n",
              "    border-radius: 50%;\n",
              "    cursor: pointer;\n",
              "    display: none;\n",
              "    fill: var(--fill-color);\n",
              "    height: 32px;\n",
              "    padding: 0;\n",
              "    width: 32px;\n",
              "  }\n",
              "\n",
              "  .colab-df-quickchart:hover {\n",
              "    background-color: var(--hover-bg-color);\n",
              "    box-shadow: 0 1px 2px rgba(60, 64, 67, 0.3), 0 1px 3px 1px rgba(60, 64, 67, 0.15);\n",
              "    fill: var(--button-hover-fill-color);\n",
              "  }\n",
              "\n",
              "  .colab-df-quickchart-complete:disabled,\n",
              "  .colab-df-quickchart-complete:disabled:hover {\n",
              "    background-color: var(--disabled-bg-color);\n",
              "    fill: var(--disabled-fill-color);\n",
              "    box-shadow: none;\n",
              "  }\n",
              "\n",
              "  .colab-df-spinner {\n",
              "    border: 2px solid var(--fill-color);\n",
              "    border-color: transparent;\n",
              "    border-bottom-color: var(--fill-color);\n",
              "    animation:\n",
              "      spin 1s steps(1) infinite;\n",
              "  }\n",
              "\n",
              "  @keyframes spin {\n",
              "    0% {\n",
              "      border-color: transparent;\n",
              "      border-bottom-color: var(--fill-color);\n",
              "      border-left-color: var(--fill-color);\n",
              "    }\n",
              "    20% {\n",
              "      border-color: transparent;\n",
              "      border-left-color: var(--fill-color);\n",
              "      border-top-color: var(--fill-color);\n",
              "    }\n",
              "    30% {\n",
              "      border-color: transparent;\n",
              "      border-left-color: var(--fill-color);\n",
              "      border-top-color: var(--fill-color);\n",
              "      border-right-color: var(--fill-color);\n",
              "    }\n",
              "    40% {\n",
              "      border-color: transparent;\n",
              "      border-right-color: var(--fill-color);\n",
              "      border-top-color: var(--fill-color);\n",
              "    }\n",
              "    60% {\n",
              "      border-color: transparent;\n",
              "      border-right-color: var(--fill-color);\n",
              "    }\n",
              "    80% {\n",
              "      border-color: transparent;\n",
              "      border-right-color: var(--fill-color);\n",
              "      border-bottom-color: var(--fill-color);\n",
              "    }\n",
              "    90% {\n",
              "      border-color: transparent;\n",
              "      border-bottom-color: var(--fill-color);\n",
              "    }\n",
              "  }\n",
              "</style>\n",
              "\n",
              "  <script>\n",
              "    async function quickchart(key) {\n",
              "      const quickchartButtonEl =\n",
              "        document.querySelector('#' + key + ' button');\n",
              "      quickchartButtonEl.disabled = true;  // To prevent multiple clicks.\n",
              "      quickchartButtonEl.classList.add('colab-df-spinner');\n",
              "      try {\n",
              "        const charts = await google.colab.kernel.invokeFunction(\n",
              "            'suggestCharts', [key], {});\n",
              "      } catch (error) {\n",
              "        console.error('Error during call to suggestCharts:', error);\n",
              "      }\n",
              "      quickchartButtonEl.classList.remove('colab-df-spinner');\n",
              "      quickchartButtonEl.classList.add('colab-df-quickchart-complete');\n",
              "    }\n",
              "    (() => {\n",
              "      let quickchartButtonEl =\n",
              "        document.querySelector('#df-ffa75a95-058f-4512-b7b5-4fb10e34478c button');\n",
              "      quickchartButtonEl.style.display =\n",
              "        google.colab.kernel.accessAllowed ? 'block' : 'none';\n",
              "    })();\n",
              "  </script>\n",
              "</div>\n",
              "\n",
              "    </div>\n",
              "  </div>\n"
            ],
            "application/vnd.google.colaboratory.intrinsic+json": {
              "type": "dataframe",
              "variable_name": "df"
            }
          },
          "metadata": {},
          "execution_count": 29
        }
      ],
      "source": [
        "df.head(5)"
      ]
    },
    {
      "cell_type": "markdown",
      "metadata": {
        "id": "GYy-3lmp3rhi"
      },
      "source": [
        "2- Creating new features"
      ]
    },
    {
      "cell_type": "markdown",
      "metadata": {
        "id": "5zElHMFp3ZB6"
      },
      "source": [
        "Brand Popularity\n",
        "Creating a feature that represents the popularity of a car brand by counting how many cars of each brand are in the dataset. Popular brands might have higher resale values."
      ]
    },
    {
      "cell_type": "code",
      "execution_count": 30,
      "metadata": {
        "id": "iJttCJjy32pr"
      },
      "outputs": [],
      "source": [
        "df['brand_popularity'] = df['brand'].map(df['brand'].value_counts())\n"
      ]
    },
    {
      "cell_type": "markdown",
      "metadata": {
        "id": "AqNMNpmc4Ud6"
      },
      "source": [
        "Create a feature that represents the age of a car by calculating the difference between the current year and the car's model year. Older cars tend to have different pricing and usage patterns compared to newer models, and the age feature helps capture this information."
      ]
    },
    {
      "cell_type": "code",
      "execution_count": 31,
      "metadata": {
        "id": "QI6zqYti4DN2"
      },
      "outputs": [],
      "source": [
        "df['car_age'] = 2024 - df['model_year']\n",
        "\n",
        "# Check for zeros in the car_age column\n",
        "if (df['car_age'] == 0).any():\n",
        "    # Optional: Drop rows with zero car_age or handle as needed\n",
        "    df = df[df['car_age'] != 0]  # Drop rows with zero car_age\n"
      ]
    },
    {
      "cell_type": "code",
      "source": [
        "has_zeros = (df['car_age'] == 0).any()\n",
        "print(f\"Are there any zeros in 'car_age'? {has_zeros}\")"
      ],
      "metadata": {
        "colab": {
          "base_uri": "https://localhost:8080/"
        },
        "id": "mkVT1Cp08jEN",
        "outputId": "b55a7927-4797-4f73-b5dc-ce2fa6136edf"
      },
      "execution_count": 32,
      "outputs": [
        {
          "output_type": "stream",
          "name": "stdout",
          "text": [
            "Are there any zeros in 'car_age'? False\n"
          ]
        }
      ]
    },
    {
      "cell_type": "markdown",
      "metadata": {
        "id": "KkYTeOCP1XsV"
      },
      "source": [
        "3- Interaction Features"
      ]
    },
    {
      "cell_type": "markdown",
      "metadata": {
        "id": "LQ2TySgL1gz7"
      },
      "source": [
        "Mileage to Age Ratio: A feature that represents how much the car has been driven relative to its age. This can provide insight into whether the car is heavily or lightly used."
      ]
    },
    {
      "cell_type": "code",
      "execution_count": 34,
      "metadata": {
        "id": "bcHJQeGG1d2R"
      },
      "outputs": [],
      "source": [
        "\n",
        "\n",
        "df['mileage_to_age_ratio'] = df['milage'] / df['car_age']\n",
        "\n"
      ]
    },
    {
      "cell_type": "markdown",
      "metadata": {
        "id": "3O6wV_GM2gtF"
      },
      "source": [
        "Price-to-Age Ratio: This feature would capture how expensive the car is relative to its age, helping to differentiate between cheaper older cars and expensive older models."
      ]
    },
    {
      "cell_type": "code",
      "execution_count": 35,
      "metadata": {
        "id": "sOCq2xvO2n-u"
      },
      "outputs": [],
      "source": [
        "df['price_to_age_ratio'] = df['price'] / df['car_age']\n"
      ]
    },
    {
      "cell_type": "code",
      "execution_count": 36,
      "metadata": {
        "id": "NfMSvX2g2QaL",
        "colab": {
          "base_uri": "https://localhost:8080/",
          "height": 550
        },
        "outputId": "44ddb311-15f9-41d0-b1d4-e5aa51553c6f"
      },
      "outputs": [
        {
          "output_type": "execute_result",
          "data": {
            "text/plain": [
              "      brand                            model  model_year   milage  \\\n",
              "0      Ford  Utility Police Interceptor Base        2013  51000.0   \n",
              "1   Hyundai                     Palisade SEL        2021  34742.0   \n",
              "2     Lexus                    RX 350 RX 350        2022  22372.0   \n",
              "3  INFINITI                 Q50 Hybrid Sport        2015  88900.0   \n",
              "4      Audi        Q3 45 S line Premium Plus        2021   9835.0   \n",
              "\n",
              "       fuel_type                                             engine  \\\n",
              "0  E85 Flex Fuel  300.0HP 3.7L V6 Cylinder Engine Flex Fuel Capa...   \n",
              "1       Gasoline                               3.8L V6 24V GDI DOHC   \n",
              "2       Gasoline                                     3.5 Liter DOHC   \n",
              "3         Hybrid  354.0HP 3.5L V6 Cylinder Engine Gas/Electric H...   \n",
              "4       Gasoline                         2.0L I4 16V GDI DOHC Turbo   \n",
              "\n",
              "        transmission                 ext_col int_col  \\\n",
              "0        6-Speed A/T                   Black   Black   \n",
              "1  8-Speed Automatic         Moonlight Cloud    Gray   \n",
              "2          Automatic                    Blue   Black   \n",
              "3        7-Speed A/T                   Black   Black   \n",
              "4  8-Speed Automatic  Glacier White Metallic   Black   \n",
              "\n",
              "                                 accident  ... price_norm  milage_norm  \\\n",
              "0  At least 1 accident or damage reported  ...   0.002812     0.125710   \n",
              "1  At least 1 accident or damage reported  ...   0.012196     0.085557   \n",
              "2                           None reported  ...   0.017817     0.055006   \n",
              "3                           None reported  ...   0.004573     0.219313   \n",
              "4                           None reported  ...   0.011178     0.024043   \n",
              "\n",
              "   mileage_bin  price_category  price_category_encoded  mileage_bin_encoded  \\\n",
              "0      50k-75k          Budget                       0                    2   \n",
              "1      25k-50k       Mid-range                       1                    1   \n",
              "2        0-25k         Premium                       2                    0   \n",
              "3     75k-100k          Budget                       0                    3   \n",
              "4        0-25k       Mid-range                       1                    0   \n",
              "\n",
              "   brand_popularity car_age mileage_to_age_ratio  price_to_age_ratio  \n",
              "0               386      11          4636.363636          936.363636  \n",
              "1                72       3         11580.666667        12668.333333  \n",
              "2               163       2         11186.000000        27299.000000  \n",
              "3                59       9          9877.777778         1722.222222  \n",
              "4               200       3          3278.333333        11666.333333  \n",
              "\n",
              "[5 rows x 25 columns]"
            ],
            "text/html": [
              "\n",
              "  <div id=\"df-d7b87ef1-af63-40a4-8bfb-95d1b2dc5c82\" class=\"colab-df-container\">\n",
              "    <div>\n",
              "<style scoped>\n",
              "    .dataframe tbody tr th:only-of-type {\n",
              "        vertical-align: middle;\n",
              "    }\n",
              "\n",
              "    .dataframe tbody tr th {\n",
              "        vertical-align: top;\n",
              "    }\n",
              "\n",
              "    .dataframe thead th {\n",
              "        text-align: right;\n",
              "    }\n",
              "</style>\n",
              "<table border=\"1\" class=\"dataframe\">\n",
              "  <thead>\n",
              "    <tr style=\"text-align: right;\">\n",
              "      <th></th>\n",
              "      <th>brand</th>\n",
              "      <th>model</th>\n",
              "      <th>model_year</th>\n",
              "      <th>milage</th>\n",
              "      <th>fuel_type</th>\n",
              "      <th>engine</th>\n",
              "      <th>transmission</th>\n",
              "      <th>ext_col</th>\n",
              "      <th>int_col</th>\n",
              "      <th>accident</th>\n",
              "      <th>...</th>\n",
              "      <th>price_norm</th>\n",
              "      <th>milage_norm</th>\n",
              "      <th>mileage_bin</th>\n",
              "      <th>price_category</th>\n",
              "      <th>price_category_encoded</th>\n",
              "      <th>mileage_bin_encoded</th>\n",
              "      <th>brand_popularity</th>\n",
              "      <th>car_age</th>\n",
              "      <th>mileage_to_age_ratio</th>\n",
              "      <th>price_to_age_ratio</th>\n",
              "    </tr>\n",
              "  </thead>\n",
              "  <tbody>\n",
              "    <tr>\n",
              "      <th>0</th>\n",
              "      <td>Ford</td>\n",
              "      <td>Utility Police Interceptor Base</td>\n",
              "      <td>2013</td>\n",
              "      <td>51000.0</td>\n",
              "      <td>E85 Flex Fuel</td>\n",
              "      <td>300.0HP 3.7L V6 Cylinder Engine Flex Fuel Capa...</td>\n",
              "      <td>6-Speed A/T</td>\n",
              "      <td>Black</td>\n",
              "      <td>Black</td>\n",
              "      <td>At least 1 accident or damage reported</td>\n",
              "      <td>...</td>\n",
              "      <td>0.002812</td>\n",
              "      <td>0.125710</td>\n",
              "      <td>50k-75k</td>\n",
              "      <td>Budget</td>\n",
              "      <td>0</td>\n",
              "      <td>2</td>\n",
              "      <td>386</td>\n",
              "      <td>11</td>\n",
              "      <td>4636.363636</td>\n",
              "      <td>936.363636</td>\n",
              "    </tr>\n",
              "    <tr>\n",
              "      <th>1</th>\n",
              "      <td>Hyundai</td>\n",
              "      <td>Palisade SEL</td>\n",
              "      <td>2021</td>\n",
              "      <td>34742.0</td>\n",
              "      <td>Gasoline</td>\n",
              "      <td>3.8L V6 24V GDI DOHC</td>\n",
              "      <td>8-Speed Automatic</td>\n",
              "      <td>Moonlight Cloud</td>\n",
              "      <td>Gray</td>\n",
              "      <td>At least 1 accident or damage reported</td>\n",
              "      <td>...</td>\n",
              "      <td>0.012196</td>\n",
              "      <td>0.085557</td>\n",
              "      <td>25k-50k</td>\n",
              "      <td>Mid-range</td>\n",
              "      <td>1</td>\n",
              "      <td>1</td>\n",
              "      <td>72</td>\n",
              "      <td>3</td>\n",
              "      <td>11580.666667</td>\n",
              "      <td>12668.333333</td>\n",
              "    </tr>\n",
              "    <tr>\n",
              "      <th>2</th>\n",
              "      <td>Lexus</td>\n",
              "      <td>RX 350 RX 350</td>\n",
              "      <td>2022</td>\n",
              "      <td>22372.0</td>\n",
              "      <td>Gasoline</td>\n",
              "      <td>3.5 Liter DOHC</td>\n",
              "      <td>Automatic</td>\n",
              "      <td>Blue</td>\n",
              "      <td>Black</td>\n",
              "      <td>None reported</td>\n",
              "      <td>...</td>\n",
              "      <td>0.017817</td>\n",
              "      <td>0.055006</td>\n",
              "      <td>0-25k</td>\n",
              "      <td>Premium</td>\n",
              "      <td>2</td>\n",
              "      <td>0</td>\n",
              "      <td>163</td>\n",
              "      <td>2</td>\n",
              "      <td>11186.000000</td>\n",
              "      <td>27299.000000</td>\n",
              "    </tr>\n",
              "    <tr>\n",
              "      <th>3</th>\n",
              "      <td>INFINITI</td>\n",
              "      <td>Q50 Hybrid Sport</td>\n",
              "      <td>2015</td>\n",
              "      <td>88900.0</td>\n",
              "      <td>Hybrid</td>\n",
              "      <td>354.0HP 3.5L V6 Cylinder Engine Gas/Electric H...</td>\n",
              "      <td>7-Speed A/T</td>\n",
              "      <td>Black</td>\n",
              "      <td>Black</td>\n",
              "      <td>None reported</td>\n",
              "      <td>...</td>\n",
              "      <td>0.004573</td>\n",
              "      <td>0.219313</td>\n",
              "      <td>75k-100k</td>\n",
              "      <td>Budget</td>\n",
              "      <td>0</td>\n",
              "      <td>3</td>\n",
              "      <td>59</td>\n",
              "      <td>9</td>\n",
              "      <td>9877.777778</td>\n",
              "      <td>1722.222222</td>\n",
              "    </tr>\n",
              "    <tr>\n",
              "      <th>4</th>\n",
              "      <td>Audi</td>\n",
              "      <td>Q3 45 S line Premium Plus</td>\n",
              "      <td>2021</td>\n",
              "      <td>9835.0</td>\n",
              "      <td>Gasoline</td>\n",
              "      <td>2.0L I4 16V GDI DOHC Turbo</td>\n",
              "      <td>8-Speed Automatic</td>\n",
              "      <td>Glacier White Metallic</td>\n",
              "      <td>Black</td>\n",
              "      <td>None reported</td>\n",
              "      <td>...</td>\n",
              "      <td>0.011178</td>\n",
              "      <td>0.024043</td>\n",
              "      <td>0-25k</td>\n",
              "      <td>Mid-range</td>\n",
              "      <td>1</td>\n",
              "      <td>0</td>\n",
              "      <td>200</td>\n",
              "      <td>3</td>\n",
              "      <td>3278.333333</td>\n",
              "      <td>11666.333333</td>\n",
              "    </tr>\n",
              "  </tbody>\n",
              "</table>\n",
              "<p>5 rows × 25 columns</p>\n",
              "</div>\n",
              "    <div class=\"colab-df-buttons\">\n",
              "\n",
              "  <div class=\"colab-df-container\">\n",
              "    <button class=\"colab-df-convert\" onclick=\"convertToInteractive('df-d7b87ef1-af63-40a4-8bfb-95d1b2dc5c82')\"\n",
              "            title=\"Convert this dataframe to an interactive table.\"\n",
              "            style=\"display:none;\">\n",
              "\n",
              "  <svg xmlns=\"http://www.w3.org/2000/svg\" height=\"24px\" viewBox=\"0 -960 960 960\">\n",
              "    <path d=\"M120-120v-720h720v720H120Zm60-500h600v-160H180v160Zm220 220h160v-160H400v160Zm0 220h160v-160H400v160ZM180-400h160v-160H180v160Zm440 0h160v-160H620v160ZM180-180h160v-160H180v160Zm440 0h160v-160H620v160Z\"/>\n",
              "  </svg>\n",
              "    </button>\n",
              "\n",
              "  <style>\n",
              "    .colab-df-container {\n",
              "      display:flex;\n",
              "      gap: 12px;\n",
              "    }\n",
              "\n",
              "    .colab-df-convert {\n",
              "      background-color: #E8F0FE;\n",
              "      border: none;\n",
              "      border-radius: 50%;\n",
              "      cursor: pointer;\n",
              "      display: none;\n",
              "      fill: #1967D2;\n",
              "      height: 32px;\n",
              "      padding: 0 0 0 0;\n",
              "      width: 32px;\n",
              "    }\n",
              "\n",
              "    .colab-df-convert:hover {\n",
              "      background-color: #E2EBFA;\n",
              "      box-shadow: 0px 1px 2px rgba(60, 64, 67, 0.3), 0px 1px 3px 1px rgba(60, 64, 67, 0.15);\n",
              "      fill: #174EA6;\n",
              "    }\n",
              "\n",
              "    .colab-df-buttons div {\n",
              "      margin-bottom: 4px;\n",
              "    }\n",
              "\n",
              "    [theme=dark] .colab-df-convert {\n",
              "      background-color: #3B4455;\n",
              "      fill: #D2E3FC;\n",
              "    }\n",
              "\n",
              "    [theme=dark] .colab-df-convert:hover {\n",
              "      background-color: #434B5C;\n",
              "      box-shadow: 0px 1px 3px 1px rgba(0, 0, 0, 0.15);\n",
              "      filter: drop-shadow(0px 1px 2px rgba(0, 0, 0, 0.3));\n",
              "      fill: #FFFFFF;\n",
              "    }\n",
              "  </style>\n",
              "\n",
              "    <script>\n",
              "      const buttonEl =\n",
              "        document.querySelector('#df-d7b87ef1-af63-40a4-8bfb-95d1b2dc5c82 button.colab-df-convert');\n",
              "      buttonEl.style.display =\n",
              "        google.colab.kernel.accessAllowed ? 'block' : 'none';\n",
              "\n",
              "      async function convertToInteractive(key) {\n",
              "        const element = document.querySelector('#df-d7b87ef1-af63-40a4-8bfb-95d1b2dc5c82');\n",
              "        const dataTable =\n",
              "          await google.colab.kernel.invokeFunction('convertToInteractive',\n",
              "                                                    [key], {});\n",
              "        if (!dataTable) return;\n",
              "\n",
              "        const docLinkHtml = 'Like what you see? Visit the ' +\n",
              "          '<a target=\"_blank\" href=https://colab.research.google.com/notebooks/data_table.ipynb>data table notebook</a>'\n",
              "          + ' to learn more about interactive tables.';\n",
              "        element.innerHTML = '';\n",
              "        dataTable['output_type'] = 'display_data';\n",
              "        await google.colab.output.renderOutput(dataTable, element);\n",
              "        const docLink = document.createElement('div');\n",
              "        docLink.innerHTML = docLinkHtml;\n",
              "        element.appendChild(docLink);\n",
              "      }\n",
              "    </script>\n",
              "  </div>\n",
              "\n",
              "\n",
              "<div id=\"df-575d7215-99ce-49b2-bcbf-2c065e77cd53\">\n",
              "  <button class=\"colab-df-quickchart\" onclick=\"quickchart('df-575d7215-99ce-49b2-bcbf-2c065e77cd53')\"\n",
              "            title=\"Suggest charts\"\n",
              "            style=\"display:none;\">\n",
              "\n",
              "<svg xmlns=\"http://www.w3.org/2000/svg\" height=\"24px\"viewBox=\"0 0 24 24\"\n",
              "     width=\"24px\">\n",
              "    <g>\n",
              "        <path d=\"M19 3H5c-1.1 0-2 .9-2 2v14c0 1.1.9 2 2 2h14c1.1 0 2-.9 2-2V5c0-1.1-.9-2-2-2zM9 17H7v-7h2v7zm4 0h-2V7h2v10zm4 0h-2v-4h2v4z\"/>\n",
              "    </g>\n",
              "</svg>\n",
              "  </button>\n",
              "\n",
              "<style>\n",
              "  .colab-df-quickchart {\n",
              "      --bg-color: #E8F0FE;\n",
              "      --fill-color: #1967D2;\n",
              "      --hover-bg-color: #E2EBFA;\n",
              "      --hover-fill-color: #174EA6;\n",
              "      --disabled-fill-color: #AAA;\n",
              "      --disabled-bg-color: #DDD;\n",
              "  }\n",
              "\n",
              "  [theme=dark] .colab-df-quickchart {\n",
              "      --bg-color: #3B4455;\n",
              "      --fill-color: #D2E3FC;\n",
              "      --hover-bg-color: #434B5C;\n",
              "      --hover-fill-color: #FFFFFF;\n",
              "      --disabled-bg-color: #3B4455;\n",
              "      --disabled-fill-color: #666;\n",
              "  }\n",
              "\n",
              "  .colab-df-quickchart {\n",
              "    background-color: var(--bg-color);\n",
              "    border: none;\n",
              "    border-radius: 50%;\n",
              "    cursor: pointer;\n",
              "    display: none;\n",
              "    fill: var(--fill-color);\n",
              "    height: 32px;\n",
              "    padding: 0;\n",
              "    width: 32px;\n",
              "  }\n",
              "\n",
              "  .colab-df-quickchart:hover {\n",
              "    background-color: var(--hover-bg-color);\n",
              "    box-shadow: 0 1px 2px rgba(60, 64, 67, 0.3), 0 1px 3px 1px rgba(60, 64, 67, 0.15);\n",
              "    fill: var(--button-hover-fill-color);\n",
              "  }\n",
              "\n",
              "  .colab-df-quickchart-complete:disabled,\n",
              "  .colab-df-quickchart-complete:disabled:hover {\n",
              "    background-color: var(--disabled-bg-color);\n",
              "    fill: var(--disabled-fill-color);\n",
              "    box-shadow: none;\n",
              "  }\n",
              "\n",
              "  .colab-df-spinner {\n",
              "    border: 2px solid var(--fill-color);\n",
              "    border-color: transparent;\n",
              "    border-bottom-color: var(--fill-color);\n",
              "    animation:\n",
              "      spin 1s steps(1) infinite;\n",
              "  }\n",
              "\n",
              "  @keyframes spin {\n",
              "    0% {\n",
              "      border-color: transparent;\n",
              "      border-bottom-color: var(--fill-color);\n",
              "      border-left-color: var(--fill-color);\n",
              "    }\n",
              "    20% {\n",
              "      border-color: transparent;\n",
              "      border-left-color: var(--fill-color);\n",
              "      border-top-color: var(--fill-color);\n",
              "    }\n",
              "    30% {\n",
              "      border-color: transparent;\n",
              "      border-left-color: var(--fill-color);\n",
              "      border-top-color: var(--fill-color);\n",
              "      border-right-color: var(--fill-color);\n",
              "    }\n",
              "    40% {\n",
              "      border-color: transparent;\n",
              "      border-right-color: var(--fill-color);\n",
              "      border-top-color: var(--fill-color);\n",
              "    }\n",
              "    60% {\n",
              "      border-color: transparent;\n",
              "      border-right-color: var(--fill-color);\n",
              "    }\n",
              "    80% {\n",
              "      border-color: transparent;\n",
              "      border-right-color: var(--fill-color);\n",
              "      border-bottom-color: var(--fill-color);\n",
              "    }\n",
              "    90% {\n",
              "      border-color: transparent;\n",
              "      border-bottom-color: var(--fill-color);\n",
              "    }\n",
              "  }\n",
              "</style>\n",
              "\n",
              "  <script>\n",
              "    async function quickchart(key) {\n",
              "      const quickchartButtonEl =\n",
              "        document.querySelector('#' + key + ' button');\n",
              "      quickchartButtonEl.disabled = true;  // To prevent multiple clicks.\n",
              "      quickchartButtonEl.classList.add('colab-df-spinner');\n",
              "      try {\n",
              "        const charts = await google.colab.kernel.invokeFunction(\n",
              "            'suggestCharts', [key], {});\n",
              "      } catch (error) {\n",
              "        console.error('Error during call to suggestCharts:', error);\n",
              "      }\n",
              "      quickchartButtonEl.classList.remove('colab-df-spinner');\n",
              "      quickchartButtonEl.classList.add('colab-df-quickchart-complete');\n",
              "    }\n",
              "    (() => {\n",
              "      let quickchartButtonEl =\n",
              "        document.querySelector('#df-575d7215-99ce-49b2-bcbf-2c065e77cd53 button');\n",
              "      quickchartButtonEl.style.display =\n",
              "        google.colab.kernel.accessAllowed ? 'block' : 'none';\n",
              "    })();\n",
              "  </script>\n",
              "</div>\n",
              "\n",
              "    </div>\n",
              "  </div>\n"
            ],
            "application/vnd.google.colaboratory.intrinsic+json": {
              "type": "dataframe",
              "variable_name": "df"
            }
          },
          "metadata": {},
          "execution_count": 36
        }
      ],
      "source": [
        "df.head(5)"
      ]
    },
    {
      "cell_type": "markdown",
      "metadata": {
        "id": "9QiQ41AGPt1C"
      },
      "source": [
        "## 3- EDA"
      ]
    },
    {
      "cell_type": "markdown",
      "metadata": {
        "id": "-h2pLOOhf_SC"
      },
      "source": [
        "Visualizing Data Distributions"
      ]
    },
    {
      "cell_type": "code",
      "execution_count": 37,
      "metadata": {
        "id": "hDOpgnbNf6WL",
        "colab": {
          "base_uri": "https://localhost:8080/",
          "height": 564
        },
        "outputId": "9a749915-15a4-40ab-bd01-73a590c8f614"
      },
      "outputs": [
        {
          "output_type": "display_data",
          "data": {
            "text/plain": [
              "<Figure size 1000x600 with 1 Axes>"
            ],
            "image/png": "[encoded data removed]"
          },
          "metadata": {}
        }
      ],
      "source": [
        "# Price Distribution\n",
        "plt.figure(figsize=(10, 6))\n",
        "sns.histplot(df['price'], bins=50, kde=True)\n",
        "plt.title('Distribution of Car Prices')\n",
        "plt.xlabel('Price ($)')\n",
        "plt.ylabel('Frequency')\n",
        "plt.show()"
      ]
    },
    {
      "cell_type": "markdown",
      "metadata": {
        "id": "V40RDipmg8SS"
      },
      "source": [
        "The output of the **car price distribution plot** shows the following:\n",
        "\n",
        "- **Most car prices** are concentrated on the left side of the graph, close to \\$0, with a high frequency of cars priced below \\$100,000.\n",
        "- The **peak** at the beginning indicates that a large number of cars have prices within a lower range (likely between \\$10,000 and \\$50,000).\n",
        "- There are a few **outliers**—cars priced well over \\$1 million, but these are very rare, as shown by the flat, extended tail on the right side of the plot.\n",
        "\n",
        "This type of distribution is **right-skewed** (positively skewed), meaning there are a few extremely high prices that stretch the distribution toward higher values, but most cars are priced lower."
      ]
    },
    {
      "cell_type": "markdown",
      "metadata": {
        "id": "a3_5-zrclgwI"
      },
      "source": [
        "Data visualization"
      ]
    },
    {
      "cell_type": "markdown",
      "metadata": {
        "id": "Fl0AVMAsnDHE"
      },
      "source": [
        "Distribution of Car Mileage\n"
      ]
    },
    {
      "cell_type": "code",
      "execution_count": null,
      "metadata": {
        "id": "_Dz03Nn4ljeZ",
        "colab": {
          "base_uri": "https://localhost:8080/",
          "height": 564
        },
        "outputId": "99fbf4a1-50cd-44e5-8284-0c9d11d90491"
      },
      "outputs": [
        {
          "output_type": "display_data",
          "data": {
            "text/plain": [
              "<Figure size 1000x600 with 1 Axes>"
            ],
            "image/png": "[encoded data removed]"
          },
          "metadata": {}
        }
      ],
      "source": [
        "plt.figure(figsize=(10, 6))\n",
        "sns.histplot(df['milage'], bins=50, kde=True)\n",
        "plt.title('Distribution of Car Mileage')\n",
        "plt.xlabel('Mileage (mi)')\n",
        "plt.ylabel('Frequency')\n",
        "plt.show()\n"
      ]
    },
    {
      "cell_type": "markdown",
      "metadata": {
        "id": "8-7LuBEiKalc"
      },
      "source": [
        "The graph shows the distribution of car mileage. It has a clear downward trend, indicating that cars with lower mileage are much more common than cars with higher mileage.\n",
        "\n",
        "The graph starts with a tall peak on the left side, representing a large number of cars with relatively low mileage, likely newer or well-maintained vehicles.\n",
        "\n",
        "As the mileage increases towards the right side of the graph, the number of cars with that mileage decreases rapidly. This reflects the reality that as cars are driven and accumulate more miles over time, there are fewer and fewer cars with higher mileage.\n",
        "\n",
        "The shape of the graph resembles an exponential curve, which is a common way to model this kind of decreasing distribution. It shows that low-mileage cars are very common, while high-mileage cars become increasingly rare."
      ]
    },
    {
      "cell_type": "markdown",
      "metadata": {
        "id": "rBxejxFihIcH"
      },
      "source": [
        "Mileage vs Price"
      ]
    },
    {
      "cell_type": "code",
      "execution_count": null,
      "metadata": {
        "id": "uGua9T_FhGv0",
        "colab": {
          "base_uri": "https://localhost:8080/",
          "height": 564
        },
        "outputId": "a66dfa10-9c8c-435e-c6ab-89ae30340da3"
      },
      "outputs": [
        {
          "output_type": "display_data",
          "data": {
            "text/plain": [
              "<Figure size 1000x600 with 1 Axes>"
            ],
            "image/png": "[encoded data removed]"
          },
          "metadata": {}
        }
      ],
      "source": [
        "plt.figure(figsize=(10, 6))\n",
        "sns.scatterplot(x=df['milage'], y=df['price'])\n",
        "plt.title('Mileage vs Price')\n",
        "plt.xlabel('Mileage (mi)')\n",
        "plt.ylabel('Price ($)')\n",
        "plt.show()"
      ]
    },
    {
      "cell_type": "markdown",
      "metadata": {
        "id": "eO7op9V_hklc"
      },
      "source": [
        "\n",
        "This scatter plot shows that cars with more miles tend to cost less:\n",
        "\n",
        "Low mileage cars (under 50,000 miles) generally have higher prices.\n",
        "Higher mileage cars (above 100,000 miles) mostly have lower prices.\n",
        "There are a few expensive outliers (over $1 million), likely luxury or rare cars, that don't follow this trend.\n",
        " more mileage = lower price, but some special cars are priced high despite their mileage."
      ]
    },
    {
      "cell_type": "markdown",
      "source": [
        "Model Year and Mileage Insights\n"
      ],
      "metadata": {
        "id": "ZqSLSqBCkLRj"
      }
    },
    {
      "cell_type": "code",
      "source": [
        "# Correlation analysis\n",
        "price_model_year_corr = df[['model_year', 'price']].corr().iloc[0, 1]\n",
        "\n",
        "plt.figure(figsize=(10, 6))\n",
        "sns.scatterplot(x=df['model_year'], y=df['price'])\n",
        "plt.title('Price vs Model Year')\n",
        "plt.xlabel('Model Year')\n",
        "plt.ylabel('Price ($)')\n",
        "plt.show()\n"
      ],
      "metadata": {
        "id": "bKD2QXarkSTW",
        "colab": {
          "base_uri": "https://localhost:8080/",
          "height": 564
        },
        "outputId": "9bb8c644-3de1-4899-d468-53dbf5b44692"
      },
      "execution_count": null,
      "outputs": [
        {
          "output_type": "display_data",
          "data": {
            "text/plain": [
              "<Figure size 1000x600 with 1 Axes>"
            ],
            "image/png": "[encoded data removed]"
          },
          "metadata": {}
        }
      ]
    },
    {
      "cell_type": "markdown",
      "source": [
        "Positive Correlation: There is a general positive trend where newer cars (more recent model years) tend to have higher prices.\n",
        "\n",
        "Outliers: The outliers in the graph suggest that for some model years, certain cars can be significantly more expensive than average, likely due to their luxury status, rarity, or other factors.\n",
        "This graph shows how car prices are largely influenced by the model year, with newer cars generally costing more, but with several high-priced outliers skewing the overall distribution."
      ],
      "metadata": {
        "id": "YxVA6zsPpuX_"
      }
    },
    {
      "cell_type": "markdown",
      "source": [
        "Accident History and Its Impact on Car Prices\n"
      ],
      "metadata": {
        "id": "7NVhiGBnnPsW"
      }
    },
    {
      "cell_type": "code",
      "source": [
        "# Grouping by accident history and getting the average price\n",
        "accident_price_mean = df.groupby('accident')['price'].mean()\n",
        "\n",
        "plt.figure(figsize=(10, 6))\n",
        "sns.barplot(x=accident_price_mean.index, y=accident_price_mean.values)\n",
        "plt.title('Impact of Accident History on Car Prices')\n",
        "plt.xlabel('Accident History')\n",
        "plt.ylabel('Average Price ($)')\n",
        "plt.show()\n"
      ],
      "metadata": {
        "id": "UbKOlGPOnTml",
        "colab": {
          "base_uri": "https://localhost:8080/",
          "height": 564
        },
        "outputId": "725398f2-3bad-4b0b-b605-a23ea7d45c92"
      },
      "execution_count": null,
      "outputs": [
        {
          "output_type": "display_data",
          "data": {
            "text/plain": [
              "<Figure size 1000x600 with 1 Axes>"
            ],
            "image/png": "[encoded data removed]"
          },
          "metadata": {}
        }
      ]
    },
    {
      "cell_type": "markdown",
      "source": [
        "This graph clearly shows that accident history has a strong negative impact on car prices, with cars without accidents being valued significantly higher than those with reported damage."
      ],
      "metadata": {
        "id": "gyhm_s5rqYul"
      }
    },
    {
      "cell_type": "markdown",
      "metadata": {
        "id": "RUvMnq4JnOaJ"
      },
      "source": [
        "Count of Cars by Brand"
      ]
    },
    {
      "cell_type": "code",
      "execution_count": null,
      "metadata": {
        "id": "jf7kJeEPnPxJ",
        "colab": {
          "base_uri": "https://localhost:8080/",
          "height": 634
        },
        "outputId": "bd3df90c-b26d-4e6d-e57d-9542c27641aa"
      },
      "outputs": [
        {
          "output_type": "display_data",
          "data": {
            "text/plain": [
              "<Figure size 1200x600 with 1 Axes>"
            ],
            "image/png": "[encoded data removed]"
          },
          "metadata": {}
        }
      ],
      "source": [
        "plt.figure(figsize=(12, 6))\n",
        "sns.countplot(data=df, x='brand', order=df['brand'].value_counts().index)\n",
        "plt.title('Count of Cars by Brand')\n",
        "plt.xlabel('Brand')\n",
        "plt.ylabel('Count')\n",
        "plt.xticks(rotation=45)\n",
        "plt.show()\n"
      ]
    },
    {
      "cell_type": "markdown",
      "source": [
        "This bar chart displays the count of cars for each brand in the dataset. The bars represent the number of listings available per brand, sorted in descending order. Brands like Ford, BMW, and Mercedes-Benz have the highest counts, indicating these are the most commonly listed cars. As we move to the right, brands like Rolls-Royce, Bugatti, and Maybach have much lower counts, showing that they are rarer in this dataset. This distribution gives a sense of each brand's market presence and availability in the data."
      ],
      "metadata": {
        "id": "4XpTKfv52G6-"
      }
    },
    {
      "cell_type": "markdown",
      "metadata": {
        "id": "wyPNStzQnX6Z"
      },
      "source": [
        " Boxplot of Prices by Brand"
      ]
    },
    {
      "cell_type": "code",
      "execution_count": null,
      "metadata": {
        "id": "W3m34xq6nZ07",
        "colab": {
          "base_uri": "https://localhost:8080/",
          "height": 634
        },
        "outputId": "952476a7-90e7-4fda-decf-5311cb9f677a"
      },
      "outputs": [
        {
          "output_type": "display_data",
          "data": {
            "text/plain": [
              "<Figure size 1200x600 with 1 Axes>"
            ],
            "image/png": "[encoded data removed]"
          },
          "metadata": {}
        }
      ],
      "source": [
        "plt.figure(figsize=(12, 6))\n",
        "sns.boxplot(data=df, x='brand', y='price')\n",
        "plt.title('Boxplot of Prices by Brand')\n",
        "plt.xlabel('Brand')\n",
        "plt.ylabel('Price ($)')\n",
        "plt.xticks(rotation=45)\n",
        "plt.show()"
      ]
    },
    {
      "cell_type": "markdown",
      "metadata": {
        "id": "JDPt7EZCLqOB"
      },
      "source": [
        "------------"
      ]
    },
    {
      "cell_type": "markdown",
      "source": [
        "The boxplot visualizes the distribution of car prices across different brands. Each box represents the interquartile range (IQR) of prices for a specific brand, with the median price marked by a horizontal line inside each box. The \"whiskers\" extend to the minimum and maximum values within 1.5 times the IQR, while points outside this range are considered outliers (shown as circles). Brands like Rolls-Royce, Bugatti, and Lamborghini have higher median prices and more outliers, indicating a wider range of luxury car prices. Meanwhile, brands like Ford and Hyundai have prices clustered near the lower end, with fewer outliers."
      ],
      "metadata": {
        "id": "MzQoTkDt1wnp"
      }
    },
    {
      "cell_type": "code",
      "source": [
        "import seaborn as sns\n",
        "numeric_df = df.select_dtypes(include=[float, int])\n",
        "\n",
        "plt.figure(figsize=(12, 8))\n",
        "sns.heatmap(numeric_df.corr(), annot=True, cmap='Paired', fmt='.2f')\n",
        "plt.title('Correlation Heatmap')\n",
        "plt.show()"
      ],
      "metadata": {
        "colab": {
          "base_uri": "https://localhost:8080/",
          "height": 786
        },
        "id": "9ehYNgWS3GF8",
        "outputId": "f57c1450-41e3-4386-a4a7-b63b3abd767c"
      },
      "execution_count": 38,
      "outputs": [
        {
          "output_type": "display_data",
          "data": {
            "text/plain": [
              "<Figure size 1200x800 with 2 Axes>"
            ],
            "image/png": "[encoded data removed]"
          },
          "metadata": {}
        }
      ]
    },
    {
      "cell_type": "markdown",
      "metadata": {
        "id": "5zSACY47aTFP"
      },
      "source": [
        "#4- Building The model"
      ]
    },
    {
      "cell_type": "code",
      "source": [
        "list(df.columns)"
      ],
      "metadata": {
        "colab": {
          "base_uri": "https://localhost:8080/"
        },
        "id": "Rf8BimUG2c3E",
        "outputId": "a2ca01da-9762-4c01-fef3-611c09b24ac7"
      },
      "execution_count": 39,
      "outputs": [
        {
          "output_type": "execute_result",
          "data": {
            "text/plain": [
              "['brand',\n",
              " 'model',\n",
              " 'model_year',\n",
              " 'milage',\n",
              " 'fuel_type',\n",
              " 'engine',\n",
              " 'transmission',\n",
              " 'ext_col',\n",
              " 'int_col',\n",
              " 'accident',\n",
              " 'clean_title',\n",
              " 'price',\n",
              " 'clean_title_ecnoded',\n",
              " 'fuel_type_encoded',\n",
              " 'accident_encoded',\n",
              " 'price_norm',\n",
              " 'milage_norm',\n",
              " 'mileage_bin',\n",
              " 'price_category',\n",
              " 'price_category_encoded',\n",
              " 'mileage_bin_encoded',\n",
              " 'brand_popularity',\n",
              " 'car_age',\n",
              " 'mileage_to_age_ratio',\n",
              " 'price_to_age_ratio']"
            ]
          },
          "metadata": {},
          "execution_count": 39
        }
      ]
    },
    {
      "cell_type": "markdown",
      "source": [
        "## Neural Networks"
      ],
      "metadata": {
        "id": "dJCaXOx6FNlZ"
      }
    },
    {
      "cell_type": "markdown",
      "source": [
        "we will use grid search and Random search to Systematically tested combinations of hyperparameters, such as the learning rate, batch size, number of units for neural networks."
      ],
      "metadata": {
        "id": "lUrLIqQDE5bR"
      }
    },
    {
      "cell_type": "markdown",
      "source": [
        "### Grid search"
      ],
      "metadata": {
        "id": "V8qW9tR0B8MO"
      }
    },
    {
      "cell_type": "markdown",
      "source": [
        "since our dataset is large and we want to find a pair of cars, using the whole data would produce a very lage number of pairs\n",
        "\n",
        "we decided to use random subset of the data to use in the model for that reason."
      ],
      "metadata": {
        "id": "RZwWZNZmydZN"
      }
    },
    {
      "cell_type": "code",
      "source": [
        "# Define key features\n",
        "features = ['price_norm', 'milage_norm', 'model_year', 'brand_popularity',\n",
        "            'fuel_type_encoded', 'accident_encoded', 'clean_title_ecnoded']\n",
        "\n",
        "# Specify the subset size\n",
        "subset_size = 1000  # Adjust the number as needed based on your dataset\n",
        "\n",
        "# Generate all possible car pairs and sample a subset\n",
        "car_indices = list(df.index)\n",
        "car_pairs = list(itertools.combinations(car_indices, 2))\n",
        "subset_pairs = random.sample(car_pairs, subset_size)\n",
        "\n",
        "# Prepare lists to store the differences in attributes and the labels\n",
        "pair_data = []\n",
        "pair_labels = []\n",
        "\n",
        "for idx1, idx2 in subset_pairs:\n",
        "    car1 = df.loc[idx1, features].values\n",
        "    car2 = df.loc[idx2, features].values\n",
        "    # Calculate the difference between the attributes of two cars\n",
        "    diff = car1 - car2\n",
        "\n",
        "    # Append the difference in attributes to the pair_data list\n",
        "    pair_data.append(diff)\n",
        "\n",
        "    # Define the label based on the car price\n",
        "    # Label 1 if car1 is preferred (lower price), 0 otherwise\n",
        "    label = 1 if df.loc[idx1, 'price'] < df.loc[idx2, 'price'] else 0\n",
        "    pair_labels.append(label)\n",
        "\n",
        "# Convert the pair_data and labels into a DataFrame and Series\n",
        "X = pd.DataFrame(pair_data, columns=features)\n",
        "y = pd.Series(pair_labels)\n",
        "\n",
        "# Split the dataset into training and testing sets\n",
        "X_train, X_test, y_train, y_test = train_test_split(X, y, test_size=0.2, random_state=42)\n",
        "\n",
        "# Normalize the features\n",
        "scaler = StandardScaler()\n",
        "X_train_scaled = scaler.fit_transform(X_train)\n",
        "X_test_scaled = scaler.transform(X_test)\n"
      ],
      "metadata": {
        "id": "Vv1cLvYwXBO3"
      },
      "execution_count": 52,
      "outputs": []
    },
    {
      "cell_type": "code",
      "source": [
        "\n",
        "\n",
        "# Function to build the neural network model\n",
        "def create_model(hidden_layers=1, neurons=32, learning_rate=0.001):\n",
        "    model = Sequential()\n",
        "    model.add(Dense(neurons, input_dim=X_train_scaled.shape[1], activation='relu'))\n",
        "    for _ in range(hidden_layers - 1):\n",
        "        model.add(Dense(neurons, activation='relu'))\n",
        "    model.add(Dense(1, activation='sigmoid'))  # Output layer\n",
        "    model.compile(optimizer='adam', loss='binary_crossentropy', metrics=['accuracy'])\n",
        "    return model\n",
        "\n",
        "# Wrap the model using KerasClassifier\n",
        "model = KerasClassifier(model=create_model, verbose=0)\n",
        "\n",
        "# Define a smaller grid for faster exploration\n",
        "param_grid = {\n",
        "    'model__hidden_layers': [1, 2],\n",
        "    'model__neurons': [16, 32],\n",
        "    'batch_size': [16, 32],\n",
        "    'epochs': [50],\n",
        "    'model__learning_rate': [0.001]\n",
        "}\n",
        "\n",
        "# Grid search with the corrected feature names\n",
        "grid = GridSearchCV(estimator=model, param_grid=param_grid, cv=3, verbose=2)\n",
        "grid_result = grid.fit(X_train_scaled, y_train)\n",
        "\n",
        "# Print best parameters and accuracy\n",
        "print(\"Best parameters found: \", grid_result.best_params_)\n",
        "print(\"Best accuracy achieved: \", grid_result.best_score_)\n"
      ],
      "metadata": {
        "colab": {
          "base_uri": "https://localhost:8080/"
        },
        "id": "ALnrxGHRWn_D",
        "outputId": "a7ca6c7a-7bdf-4890-90c9-9d624d8a1e07"
      },
      "execution_count": 53,
      "outputs": [
        {
          "output_type": "stream",
          "name": "stdout",
          "text": [
            "Fitting 3 folds for each of 8 candidates, totalling 24 fits\n"
          ]
        },
        {
          "output_type": "stream",
          "name": "stderr",
          "text": [
            "/usr/local/lib/python3.10/dist-packages/keras/src/layers/core/dense.py:87: UserWarning: Do not pass an `input_shape`/`input_dim` argument to a layer. When using Sequential models, prefer using an `Input(shape)` object as the first layer in the model instead.\n",
            "  super().__init__(activity_regularizer=activity_regularizer, **kwargs)\n"
          ]
        },
        {
          "output_type": "stream",
          "name": "stdout",
          "text": [
            "[CV] END batch_size=16, epochs=50, model__hidden_layers=1, model__learning_rate=0.001, model__neurons=16; total time=   6.6s\n"
          ]
        },
        {
          "output_type": "stream",
          "name": "stderr",
          "text": [
            "/usr/local/lib/python3.10/dist-packages/keras/src/layers/core/dense.py:87: UserWarning: Do not pass an `input_shape`/`input_dim` argument to a layer. When using Sequential models, prefer using an `Input(shape)` object as the first layer in the model instead.\n",
            "  super().__init__(activity_regularizer=activity_regularizer, **kwargs)\n"
          ]
        },
        {
          "output_type": "stream",
          "name": "stdout",
          "text": [
            "[CV] END batch_size=16, epochs=50, model__hidden_layers=1, model__learning_rate=0.001, model__neurons=16; total time=   6.7s\n"
          ]
        },
        {
          "output_type": "stream",
          "name": "stderr",
          "text": [
            "/usr/local/lib/python3.10/dist-packages/keras/src/layers/core/dense.py:87: UserWarning: Do not pass an `input_shape`/`input_dim` argument to a layer. When using Sequential models, prefer using an `Input(shape)` object as the first layer in the model instead.\n",
            "  super().__init__(activity_regularizer=activity_regularizer, **kwargs)\n"
          ]
        },
        {
          "output_type": "stream",
          "name": "stdout",
          "text": [
            "[CV] END batch_size=16, epochs=50, model__hidden_layers=1, model__learning_rate=0.001, model__neurons=16; total time=   6.3s\n"
          ]
        },
        {
          "output_type": "stream",
          "name": "stderr",
          "text": [
            "/usr/local/lib/python3.10/dist-packages/keras/src/layers/core/dense.py:87: UserWarning: Do not pass an `input_shape`/`input_dim` argument to a layer. When using Sequential models, prefer using an `Input(shape)` object as the first layer in the model instead.\n",
            "  super().__init__(activity_regularizer=activity_regularizer, **kwargs)\n"
          ]
        },
        {
          "output_type": "stream",
          "name": "stdout",
          "text": [
            "[CV] END batch_size=16, epochs=50, model__hidden_layers=1, model__learning_rate=0.001, model__neurons=32; total time=   7.5s\n"
          ]
        },
        {
          "output_type": "stream",
          "name": "stderr",
          "text": [
            "/usr/local/lib/python3.10/dist-packages/keras/src/layers/core/dense.py:87: UserWarning: Do not pass an `input_shape`/`input_dim` argument to a layer. When using Sequential models, prefer using an `Input(shape)` object as the first layer in the model instead.\n",
            "  super().__init__(activity_regularizer=activity_regularizer, **kwargs)\n"
          ]
        },
        {
          "output_type": "stream",
          "name": "stdout",
          "text": [
            "[CV] END batch_size=16, epochs=50, model__hidden_layers=1, model__learning_rate=0.001, model__neurons=32; total time=   6.7s\n"
          ]
        },
        {
          "output_type": "stream",
          "name": "stderr",
          "text": [
            "/usr/local/lib/python3.10/dist-packages/keras/src/layers/core/dense.py:87: UserWarning: Do not pass an `input_shape`/`input_dim` argument to a layer. When using Sequential models, prefer using an `Input(shape)` object as the first layer in the model instead.\n",
            "  super().__init__(activity_regularizer=activity_regularizer, **kwargs)\n"
          ]
        },
        {
          "output_type": "stream",
          "name": "stdout",
          "text": [
            "[CV] END batch_size=16, epochs=50, model__hidden_layers=1, model__learning_rate=0.001, model__neurons=32; total time=   7.0s\n"
          ]
        },
        {
          "output_type": "stream",
          "name": "stderr",
          "text": [
            "/usr/local/lib/python3.10/dist-packages/keras/src/layers/core/dense.py:87: UserWarning: Do not pass an `input_shape`/`input_dim` argument to a layer. When using Sequential models, prefer using an `Input(shape)` object as the first layer in the model instead.\n",
            "  super().__init__(activity_regularizer=activity_regularizer, **kwargs)\n"
          ]
        },
        {
          "output_type": "stream",
          "name": "stdout",
          "text": [
            "[CV] END batch_size=16, epochs=50, model__hidden_layers=2, model__learning_rate=0.001, model__neurons=16; total time=   6.9s\n"
          ]
        },
        {
          "output_type": "stream",
          "name": "stderr",
          "text": [
            "/usr/local/lib/python3.10/dist-packages/keras/src/layers/core/dense.py:87: UserWarning: Do not pass an `input_shape`/`input_dim` argument to a layer. When using Sequential models, prefer using an `Input(shape)` object as the first layer in the model instead.\n",
            "  super().__init__(activity_regularizer=activity_regularizer, **kwargs)\n"
          ]
        },
        {
          "output_type": "stream",
          "name": "stdout",
          "text": [
            "[CV] END batch_size=16, epochs=50, model__hidden_layers=2, model__learning_rate=0.001, model__neurons=16; total time=   8.8s\n"
          ]
        },
        {
          "output_type": "stream",
          "name": "stderr",
          "text": [
            "/usr/local/lib/python3.10/dist-packages/keras/src/layers/core/dense.py:87: UserWarning: Do not pass an `input_shape`/`input_dim` argument to a layer. When using Sequential models, prefer using an `Input(shape)` object as the first layer in the model instead.\n",
            "  super().__init__(activity_regularizer=activity_regularizer, **kwargs)\n"
          ]
        },
        {
          "output_type": "stream",
          "name": "stdout",
          "text": [
            "[CV] END batch_size=16, epochs=50, model__hidden_layers=2, model__learning_rate=0.001, model__neurons=16; total time=  10.1s\n"
          ]
        },
        {
          "output_type": "stream",
          "name": "stderr",
          "text": [
            "/usr/local/lib/python3.10/dist-packages/keras/src/layers/core/dense.py:87: UserWarning: Do not pass an `input_shape`/`input_dim` argument to a layer. When using Sequential models, prefer using an `Input(shape)` object as the first layer in the model instead.\n",
            "  super().__init__(activity_regularizer=activity_regularizer, **kwargs)\n"
          ]
        },
        {
          "output_type": "stream",
          "name": "stdout",
          "text": [
            "[CV] END batch_size=16, epochs=50, model__hidden_layers=2, model__learning_rate=0.001, model__neurons=32; total time=   7.9s\n"
          ]
        },
        {
          "output_type": "stream",
          "name": "stderr",
          "text": [
            "/usr/local/lib/python3.10/dist-packages/keras/src/layers/core/dense.py:87: UserWarning: Do not pass an `input_shape`/`input_dim` argument to a layer. When using Sequential models, prefer using an `Input(shape)` object as the first layer in the model instead.\n",
            "  super().__init__(activity_regularizer=activity_regularizer, **kwargs)\n"
          ]
        },
        {
          "output_type": "stream",
          "name": "stdout",
          "text": [
            "[CV] END batch_size=16, epochs=50, model__hidden_layers=2, model__learning_rate=0.001, model__neurons=32; total time=   7.8s\n"
          ]
        },
        {
          "output_type": "stream",
          "name": "stderr",
          "text": [
            "/usr/local/lib/python3.10/dist-packages/keras/src/layers/core/dense.py:87: UserWarning: Do not pass an `input_shape`/`input_dim` argument to a layer. When using Sequential models, prefer using an `Input(shape)` object as the first layer in the model instead.\n",
            "  super().__init__(activity_regularizer=activity_regularizer, **kwargs)\n"
          ]
        },
        {
          "output_type": "stream",
          "name": "stdout",
          "text": [
            "[CV] END batch_size=16, epochs=50, model__hidden_layers=2, model__learning_rate=0.001, model__neurons=32; total time=   7.3s\n"
          ]
        },
        {
          "output_type": "stream",
          "name": "stderr",
          "text": [
            "/usr/local/lib/python3.10/dist-packages/keras/src/layers/core/dense.py:87: UserWarning: Do not pass an `input_shape`/`input_dim` argument to a layer. When using Sequential models, prefer using an `Input(shape)` object as the first layer in the model instead.\n",
            "  super().__init__(activity_regularizer=activity_regularizer, **kwargs)\n"
          ]
        },
        {
          "output_type": "stream",
          "name": "stdout",
          "text": [
            "[CV] END batch_size=32, epochs=50, model__hidden_layers=1, model__learning_rate=0.001, model__neurons=16; total time=   5.0s\n"
          ]
        },
        {
          "output_type": "stream",
          "name": "stderr",
          "text": [
            "/usr/local/lib/python3.10/dist-packages/keras/src/layers/core/dense.py:87: UserWarning: Do not pass an `input_shape`/`input_dim` argument to a layer. When using Sequential models, prefer using an `Input(shape)` object as the first layer in the model instead.\n",
            "  super().__init__(activity_regularizer=activity_regularizer, **kwargs)\n"
          ]
        },
        {
          "output_type": "stream",
          "name": "stdout",
          "text": [
            "[CV] END batch_size=32, epochs=50, model__hidden_layers=1, model__learning_rate=0.001, model__neurons=16; total time=   4.7s\n"
          ]
        },
        {
          "output_type": "stream",
          "name": "stderr",
          "text": [
            "/usr/local/lib/python3.10/dist-packages/keras/src/layers/core/dense.py:87: UserWarning: Do not pass an `input_shape`/`input_dim` argument to a layer. When using Sequential models, prefer using an `Input(shape)` object as the first layer in the model instead.\n",
            "  super().__init__(activity_regularizer=activity_regularizer, **kwargs)\n"
          ]
        },
        {
          "output_type": "stream",
          "name": "stdout",
          "text": [
            "[CV] END batch_size=32, epochs=50, model__hidden_layers=1, model__learning_rate=0.001, model__neurons=16; total time=   4.1s\n"
          ]
        },
        {
          "output_type": "stream",
          "name": "stderr",
          "text": [
            "/usr/local/lib/python3.10/dist-packages/keras/src/layers/core/dense.py:87: UserWarning: Do not pass an `input_shape`/`input_dim` argument to a layer. When using Sequential models, prefer using an `Input(shape)` object as the first layer in the model instead.\n",
            "  super().__init__(activity_regularizer=activity_regularizer, **kwargs)\n"
          ]
        },
        {
          "output_type": "stream",
          "name": "stdout",
          "text": [
            "[CV] END batch_size=32, epochs=50, model__hidden_layers=1, model__learning_rate=0.001, model__neurons=32; total time=   4.5s\n"
          ]
        },
        {
          "output_type": "stream",
          "name": "stderr",
          "text": [
            "/usr/local/lib/python3.10/dist-packages/keras/src/layers/core/dense.py:87: UserWarning: Do not pass an `input_shape`/`input_dim` argument to a layer. When using Sequential models, prefer using an `Input(shape)` object as the first layer in the model instead.\n",
            "  super().__init__(activity_regularizer=activity_regularizer, **kwargs)\n"
          ]
        },
        {
          "output_type": "stream",
          "name": "stdout",
          "text": [
            "[CV] END batch_size=32, epochs=50, model__hidden_layers=1, model__learning_rate=0.001, model__neurons=32; total time=   5.2s\n"
          ]
        },
        {
          "output_type": "stream",
          "name": "stderr",
          "text": [
            "/usr/local/lib/python3.10/dist-packages/keras/src/layers/core/dense.py:87: UserWarning: Do not pass an `input_shape`/`input_dim` argument to a layer. When using Sequential models, prefer using an `Input(shape)` object as the first layer in the model instead.\n",
            "  super().__init__(activity_regularizer=activity_regularizer, **kwargs)\n"
          ]
        },
        {
          "output_type": "stream",
          "name": "stdout",
          "text": [
            "[CV] END batch_size=32, epochs=50, model__hidden_layers=1, model__learning_rate=0.001, model__neurons=32; total time=   3.9s\n"
          ]
        },
        {
          "output_type": "stream",
          "name": "stderr",
          "text": [
            "/usr/local/lib/python3.10/dist-packages/keras/src/layers/core/dense.py:87: UserWarning: Do not pass an `input_shape`/`input_dim` argument to a layer. When using Sequential models, prefer using an `Input(shape)` object as the first layer in the model instead.\n",
            "  super().__init__(activity_regularizer=activity_regularizer, **kwargs)\n"
          ]
        },
        {
          "output_type": "stream",
          "name": "stdout",
          "text": [
            "[CV] END batch_size=32, epochs=50, model__hidden_layers=2, model__learning_rate=0.001, model__neurons=16; total time=   5.4s\n"
          ]
        },
        {
          "output_type": "stream",
          "name": "stderr",
          "text": [
            "/usr/local/lib/python3.10/dist-packages/keras/src/layers/core/dense.py:87: UserWarning: Do not pass an `input_shape`/`input_dim` argument to a layer. When using Sequential models, prefer using an `Input(shape)` object as the first layer in the model instead.\n",
            "  super().__init__(activity_regularizer=activity_regularizer, **kwargs)\n"
          ]
        },
        {
          "output_type": "stream",
          "name": "stdout",
          "text": [
            "[CV] END batch_size=32, epochs=50, model__hidden_layers=2, model__learning_rate=0.001, model__neurons=16; total time=   5.1s\n"
          ]
        },
        {
          "output_type": "stream",
          "name": "stderr",
          "text": [
            "/usr/local/lib/python3.10/dist-packages/keras/src/layers/core/dense.py:87: UserWarning: Do not pass an `input_shape`/`input_dim` argument to a layer. When using Sequential models, prefer using an `Input(shape)` object as the first layer in the model instead.\n",
            "  super().__init__(activity_regularizer=activity_regularizer, **kwargs)\n"
          ]
        },
        {
          "output_type": "stream",
          "name": "stdout",
          "text": [
            "[CV] END batch_size=32, epochs=50, model__hidden_layers=2, model__learning_rate=0.001, model__neurons=16; total time=   4.3s\n"
          ]
        },
        {
          "output_type": "stream",
          "name": "stderr",
          "text": [
            "/usr/local/lib/python3.10/dist-packages/keras/src/layers/core/dense.py:87: UserWarning: Do not pass an `input_shape`/`input_dim` argument to a layer. When using Sequential models, prefer using an `Input(shape)` object as the first layer in the model instead.\n",
            "  super().__init__(activity_regularizer=activity_regularizer, **kwargs)\n"
          ]
        },
        {
          "output_type": "stream",
          "name": "stdout",
          "text": [
            "[CV] END batch_size=32, epochs=50, model__hidden_layers=2, model__learning_rate=0.001, model__neurons=32; total time=   5.7s\n"
          ]
        },
        {
          "output_type": "stream",
          "name": "stderr",
          "text": [
            "/usr/local/lib/python3.10/dist-packages/keras/src/layers/core/dense.py:87: UserWarning: Do not pass an `input_shape`/`input_dim` argument to a layer. When using Sequential models, prefer using an `Input(shape)` object as the first layer in the model instead.\n",
            "  super().__init__(activity_regularizer=activity_regularizer, **kwargs)\n"
          ]
        },
        {
          "output_type": "stream",
          "name": "stdout",
          "text": [
            "[CV] END batch_size=32, epochs=50, model__hidden_layers=2, model__learning_rate=0.001, model__neurons=32; total time=   4.5s\n"
          ]
        },
        {
          "output_type": "stream",
          "name": "stderr",
          "text": [
            "/usr/local/lib/python3.10/dist-packages/keras/src/layers/core/dense.py:87: UserWarning: Do not pass an `input_shape`/`input_dim` argument to a layer. When using Sequential models, prefer using an `Input(shape)` object as the first layer in the model instead.\n",
            "  super().__init__(activity_regularizer=activity_regularizer, **kwargs)\n"
          ]
        },
        {
          "output_type": "stream",
          "name": "stdout",
          "text": [
            "[CV] END batch_size=32, epochs=50, model__hidden_layers=2, model__learning_rate=0.001, model__neurons=32; total time=   4.3s\n"
          ]
        },
        {
          "output_type": "stream",
          "name": "stderr",
          "text": [
            "/usr/local/lib/python3.10/dist-packages/keras/src/layers/core/dense.py:87: UserWarning: Do not pass an `input_shape`/`input_dim` argument to a layer. When using Sequential models, prefer using an `Input(shape)` object as the first layer in the model instead.\n",
            "  super().__init__(activity_regularizer=activity_regularizer, **kwargs)\n"
          ]
        },
        {
          "output_type": "stream",
          "name": "stdout",
          "text": [
            "Best parameters found:  {'batch_size': 16, 'epochs': 50, 'model__hidden_layers': 2, 'model__learning_rate': 0.001, 'model__neurons': 32}\n",
            "Best accuracy achieved:  0.9750124374606929\n"
          ]
        }
      ]
    },
    {
      "cell_type": "markdown",
      "source": [
        "based on grid search we found that\n",
        "\n",
        "\n",
        "**Best parameters found:**  {'batch_size': 16, 'epochs': 50, 'model__hidden_layers': 2, 'model__learning_rate': 0.001, 'model__neurons': 32}\n",
        "\n",
        "\n",
        "**Best accuracy achieved:**  0.9750124374606929"
      ],
      "metadata": {
        "id": "EYFWYw0RxRUX"
      }
    },
    {
      "cell_type": "markdown",
      "source": [
        "now we will use these hyperparameters to develop a neural network model to predict car preference."
      ],
      "metadata": {
        "id": "bZ3LIwq93BP2"
      }
    },
    {
      "cell_type": "code",
      "source": [
        "\n",
        "# Retrieve the best hyperparameters\n",
        "best_params = grid_result.best_params_\n",
        "hidden_layers = best_params['model__hidden_layers']\n",
        "neurons = best_params['model__neurons']\n",
        "learning_rate = best_params['model__learning_rate']\n",
        "batch_size = best_params['batch_size']\n",
        "epochs = best_params['epochs']\n",
        "\n",
        "# Build the neural network model with the best hyperparameters\n",
        "def build_best_model(hidden_layers=hidden_layers, neurons=neurons, learning_rate=learning_rate):\n",
        "    model = Sequential()\n",
        "    model.add(Dense(neurons, input_dim=X_train_scaled.shape[1], activation='relu'))\n",
        "\n",
        "    for _ in range(hidden_layers - 1):\n",
        "        model.add(Dense(neurons, activation='relu'))\n",
        "\n",
        "    model.add(Dense(1, activation='sigmoid'))  # Output layer for binary classification\n",
        "\n",
        "    # Compile model\n",
        "    model.compile(optimizer=Adam(learning_rate=learning_rate), loss='binary_crossentropy', metrics=['accuracy'])\n",
        "\n",
        "    return model\n",
        "\n",
        "# Initialize the model with the best hyperparameters\n",
        "best_model = build_best_model()\n",
        "\n",
        "# Train the model\n",
        "best_model.fit(X_train_scaled, y_train, batch_size=batch_size, epochs=epochs, verbose=1)\n",
        "\n",
        "# Evaluate the model on the test set\n",
        "loss, accuracy = best_model.evaluate(X_test_scaled, y_test, verbose=0)\n",
        "print(f\"Test Loss: {loss:.4f}\")\n",
        "print(f\"Test Accuracy: {accuracy:.4f}\")\n"
      ],
      "metadata": {
        "colab": {
          "base_uri": "https://localhost:8080/"
        },
        "id": "7HfNVUZ13jfz",
        "outputId": "c12538f4-7028-404d-e0aa-eb831e149336"
      },
      "execution_count": 54,
      "outputs": [
        {
          "output_type": "stream",
          "name": "stdout",
          "text": [
            "Epoch 1/50\n"
          ]
        },
        {
          "output_type": "stream",
          "name": "stderr",
          "text": [
            "/usr/local/lib/python3.10/dist-packages/keras/src/layers/core/dense.py:87: UserWarning: Do not pass an `input_shape`/`input_dim` argument to a layer. When using Sequential models, prefer using an `Input(shape)` object as the first layer in the model instead.\n",
            "  super().__init__(activity_regularizer=activity_regularizer, **kwargs)\n"
          ]
        },
        {
          "output_type": "stream",
          "name": "stdout",
          "text": [
            "\u001b[1m50/50\u001b[0m \u001b[32m━━━━━━━━━━━━━━━━━━━━\u001b[0m\u001b[37m\u001b[0m \u001b[1m1s\u001b[0m 2ms/step - accuracy: 0.5380 - loss: 0.7118\n",
            "Epoch 2/50\n",
            "\u001b[1m50/50\u001b[0m \u001b[32m━━━━━━━━━━━━━━━━━━━━\u001b[0m\u001b[37m\u001b[0m \u001b[1m0s\u001b[0m 1ms/step - accuracy: 0.7780 - loss: 0.5166\n",
            "Epoch 3/50\n",
            "\u001b[1m50/50\u001b[0m \u001b[32m━━━━━━━━━━━━━━━━━━━━\u001b[0m\u001b[37m\u001b[0m \u001b[1m0s\u001b[0m 2ms/step - accuracy: 0.8110 - loss: 0.4157\n",
            "Epoch 4/50\n",
            "\u001b[1m50/50\u001b[0m \u001b[32m━━━━━━━━━━━━━━━━━━━━\u001b[0m\u001b[37m\u001b[0m \u001b[1m0s\u001b[0m 2ms/step - accuracy: 0.8372 - loss: 0.3528\n",
            "Epoch 5/50\n",
            "\u001b[1m50/50\u001b[0m \u001b[32m━━━━━━━━━━━━━━━━━━━━\u001b[0m\u001b[37m\u001b[0m \u001b[1m0s\u001b[0m 2ms/step - accuracy: 0.8468 - loss: 0.3622\n",
            "Epoch 6/50\n",
            "\u001b[1m50/50\u001b[0m \u001b[32m━━━━━━━━━━━━━━━━━━━━\u001b[0m\u001b[37m\u001b[0m \u001b[1m0s\u001b[0m 2ms/step - accuracy: 0.8732 - loss: 0.3115\n",
            "Epoch 7/50\n",
            "\u001b[1m50/50\u001b[0m \u001b[32m━━━━━━━━━━━━━━━━━━━━\u001b[0m\u001b[37m\u001b[0m \u001b[1m0s\u001b[0m 2ms/step - accuracy: 0.8681 - loss: 0.3177\n",
            "Epoch 8/50\n",
            "\u001b[1m50/50\u001b[0m \u001b[32m━━━━━━━━━━━━━━━━━━━━\u001b[0m\u001b[37m\u001b[0m \u001b[1m0s\u001b[0m 2ms/step - accuracy: 0.9099 - loss: 0.2666\n",
            "Epoch 9/50\n",
            "\u001b[1m50/50\u001b[0m \u001b[32m━━━━━━━━━━━━━━━━━━━━\u001b[0m\u001b[37m\u001b[0m \u001b[1m0s\u001b[0m 2ms/step - accuracy: 0.9033 - loss: 0.2825\n",
            "Epoch 10/50\n",
            "\u001b[1m50/50\u001b[0m \u001b[32m━━━━━━━━━━━━━━━━━━━━\u001b[0m\u001b[37m\u001b[0m \u001b[1m0s\u001b[0m 2ms/step - accuracy: 0.9211 - loss: 0.2350\n",
            "Epoch 11/50\n",
            "\u001b[1m50/50\u001b[0m \u001b[32m━━━━━━━━━━━━━━━━━━━━\u001b[0m\u001b[37m\u001b[0m \u001b[1m0s\u001b[0m 2ms/step - accuracy: 0.9092 - loss: 0.2206\n",
            "Epoch 12/50\n",
            "\u001b[1m50/50\u001b[0m \u001b[32m━━━━━━━━━━━━━━━━━━━━\u001b[0m\u001b[37m\u001b[0m \u001b[1m0s\u001b[0m 2ms/step - accuracy: 0.9209 - loss: 0.2226\n",
            "Epoch 13/50\n",
            "\u001b[1m50/50\u001b[0m \u001b[32m━━━━━━━━━━━━━━━━━━━━\u001b[0m\u001b[37m\u001b[0m \u001b[1m0s\u001b[0m 2ms/step - accuracy: 0.9305 - loss: 0.1841\n",
            "Epoch 14/50\n",
            "\u001b[1m50/50\u001b[0m \u001b[32m━━━━━━━━━━━━━━━━━━━━\u001b[0m\u001b[37m\u001b[0m \u001b[1m0s\u001b[0m 2ms/step - accuracy: 0.9625 - loss: 0.1481\n",
            "Epoch 15/50\n",
            "\u001b[1m50/50\u001b[0m \u001b[32m━━━━━━━━━━━━━━━━━━━━\u001b[0m\u001b[37m\u001b[0m \u001b[1m0s\u001b[0m 2ms/step - accuracy: 0.9480 - loss: 0.1635\n",
            "Epoch 16/50\n",
            "\u001b[1m50/50\u001b[0m \u001b[32m━━━━━━━━━━━━━━━━━━━━\u001b[0m\u001b[37m\u001b[0m \u001b[1m0s\u001b[0m 2ms/step - accuracy: 0.9581 - loss: 0.1352\n",
            "Epoch 17/50\n",
            "\u001b[1m50/50\u001b[0m \u001b[32m━━━━━━━━━━━━━━━━━━━━\u001b[0m\u001b[37m\u001b[0m \u001b[1m0s\u001b[0m 2ms/step - accuracy: 0.9654 - loss: 0.1238\n",
            "Epoch 18/50\n",
            "\u001b[1m50/50\u001b[0m \u001b[32m━━━━━━━━━━━━━━━━━━━━\u001b[0m\u001b[37m\u001b[0m \u001b[1m0s\u001b[0m 2ms/step - accuracy: 0.9747 - loss: 0.1085\n",
            "Epoch 19/50\n",
            "\u001b[1m50/50\u001b[0m \u001b[32m━━━━━━━━━━━━━━━━━━━━\u001b[0m\u001b[37m\u001b[0m \u001b[1m0s\u001b[0m 2ms/step - accuracy: 0.9828 - loss: 0.0853\n",
            "Epoch 20/50\n",
            "\u001b[1m50/50\u001b[0m \u001b[32m━━━━━━━━━━━━━━━━━━━━\u001b[0m\u001b[37m\u001b[0m \u001b[1m0s\u001b[0m 2ms/step - accuracy: 0.9841 - loss: 0.0837\n",
            "Epoch 21/50\n",
            "\u001b[1m50/50\u001b[0m \u001b[32m━━━━━━━━━━━━━━━━━━━━\u001b[0m\u001b[37m\u001b[0m \u001b[1m0s\u001b[0m 2ms/step - accuracy: 0.9870 - loss: 0.0770\n",
            "Epoch 22/50\n",
            "\u001b[1m50/50\u001b[0m \u001b[32m━━━━━━━━━━━━━━━━━━━━\u001b[0m\u001b[37m\u001b[0m \u001b[1m0s\u001b[0m 2ms/step - accuracy: 0.9906 - loss: 0.0660\n",
            "Epoch 23/50\n",
            "\u001b[1m50/50\u001b[0m \u001b[32m━━━━━━━━━━━━━━━━━━━━\u001b[0m\u001b[37m\u001b[0m \u001b[1m0s\u001b[0m 2ms/step - accuracy: 0.9929 - loss: 0.0612\n",
            "Epoch 24/50\n",
            "\u001b[1m50/50\u001b[0m \u001b[32m━━━━━━━━━━━━━━━━━━━━\u001b[0m\u001b[37m\u001b[0m \u001b[1m0s\u001b[0m 2ms/step - accuracy: 0.9926 - loss: 0.0576\n",
            "Epoch 25/50\n",
            "\u001b[1m50/50\u001b[0m \u001b[32m━━━━━━━━━━━━━━━━━━━━\u001b[0m\u001b[37m\u001b[0m \u001b[1m0s\u001b[0m 2ms/step - accuracy: 0.9823 - loss: 0.0628\n",
            "Epoch 26/50\n",
            "\u001b[1m50/50\u001b[0m \u001b[32m━━━━━━━━━━━━━━━━━━━━\u001b[0m\u001b[37m\u001b[0m \u001b[1m0s\u001b[0m 2ms/step - accuracy: 0.9825 - loss: 0.0594\n",
            "Epoch 27/50\n",
            "\u001b[1m50/50\u001b[0m \u001b[32m━━━━━━━━━━━━━━━━━━━━\u001b[0m\u001b[37m\u001b[0m \u001b[1m0s\u001b[0m 3ms/step - accuracy: 0.9951 - loss: 0.0489\n",
            "Epoch 28/50\n",
            "\u001b[1m50/50\u001b[0m \u001b[32m━━━━━━━━━━━━━━━━━━━━\u001b[0m\u001b[37m\u001b[0m \u001b[1m0s\u001b[0m 3ms/step - accuracy: 0.9929 - loss: 0.0446\n",
            "Epoch 29/50\n",
            "\u001b[1m50/50\u001b[0m \u001b[32m━━━━━━━━━━━━━━━━━━━━\u001b[0m\u001b[37m\u001b[0m \u001b[1m0s\u001b[0m 3ms/step - accuracy: 0.9993 - loss: 0.0417\n",
            "Epoch 30/50\n",
            "\u001b[1m50/50\u001b[0m \u001b[32m━━━━━━━━━━━━━━━━━━━━\u001b[0m\u001b[37m\u001b[0m \u001b[1m0s\u001b[0m 3ms/step - accuracy: 0.9956 - loss: 0.0360\n",
            "Epoch 31/50\n",
            "\u001b[1m50/50\u001b[0m \u001b[32m━━━━━━━━━━━━━━━━━━━━\u001b[0m\u001b[37m\u001b[0m \u001b[1m0s\u001b[0m 3ms/step - accuracy: 0.9971 - loss: 0.0374\n",
            "Epoch 32/50\n",
            "\u001b[1m50/50\u001b[0m \u001b[32m━━━━━━━━━━━━━━━━━━━━\u001b[0m\u001b[37m\u001b[0m \u001b[1m0s\u001b[0m 2ms/step - accuracy: 0.9969 - loss: 0.0393\n",
            "Epoch 33/50\n",
            "\u001b[1m50/50\u001b[0m \u001b[32m━━━━━━━━━━━━━━━━━━━━\u001b[0m\u001b[37m\u001b[0m \u001b[1m0s\u001b[0m 3ms/step - accuracy: 0.9974 - loss: 0.0334\n",
            "Epoch 34/50\n",
            "\u001b[1m50/50\u001b[0m \u001b[32m━━━━━━━━━━━━━━━━━━━━\u001b[0m\u001b[37m\u001b[0m \u001b[1m0s\u001b[0m 3ms/step - accuracy: 0.9969 - loss: 0.0283\n",
            "Epoch 35/50\n",
            "\u001b[1m50/50\u001b[0m \u001b[32m━━━━━━━━━━━━━━━━━━━━\u001b[0m\u001b[37m\u001b[0m \u001b[1m0s\u001b[0m 2ms/step - accuracy: 0.9997 - loss: 0.0282\n",
            "Epoch 36/50\n",
            "\u001b[1m50/50\u001b[0m \u001b[32m━━━━━━━━━━━━━━━━━━━━\u001b[0m\u001b[37m\u001b[0m \u001b[1m0s\u001b[0m 3ms/step - accuracy: 0.9998 - loss: 0.0272\n",
            "Epoch 37/50\n",
            "\u001b[1m50/50\u001b[0m \u001b[32m━━━━━━━━━━━━━━━━━━━━\u001b[0m\u001b[37m\u001b[0m \u001b[1m0s\u001b[0m 3ms/step - accuracy: 0.9990 - loss: 0.0243\n",
            "Epoch 38/50\n",
            "\u001b[1m50/50\u001b[0m \u001b[32m━━━━━━━━━━━━━━━━━━━━\u001b[0m\u001b[37m\u001b[0m \u001b[1m0s\u001b[0m 3ms/step - accuracy: 0.9993 - loss: 0.0258\n",
            "Epoch 39/50\n",
            "\u001b[1m50/50\u001b[0m \u001b[32m━━━━━━━━━━━━━━━━━━━━\u001b[0m\u001b[37m\u001b[0m \u001b[1m0s\u001b[0m 3ms/step - accuracy: 0.9981 - loss: 0.0183\n",
            "Epoch 40/50\n",
            "\u001b[1m50/50\u001b[0m \u001b[32m━━━━━━━━━━━━━━━━━━━━\u001b[0m\u001b[37m\u001b[0m \u001b[1m0s\u001b[0m 5ms/step - accuracy: 0.9967 - loss: 0.0272\n",
            "Epoch 41/50\n",
            "\u001b[1m50/50\u001b[0m \u001b[32m━━━━━━━━━━━━━━━━━━━━\u001b[0m\u001b[37m\u001b[0m \u001b[1m0s\u001b[0m 3ms/step - accuracy: 0.9996 - loss: 0.0217\n",
            "Epoch 42/50\n",
            "\u001b[1m50/50\u001b[0m \u001b[32m━━━━━━━━━━━━━━━━━━━━\u001b[0m\u001b[37m\u001b[0m \u001b[1m0s\u001b[0m 3ms/step - accuracy: 0.9941 - loss: 0.0267\n",
            "Epoch 43/50\n",
            "\u001b[1m50/50\u001b[0m \u001b[32m━━━━━━━━━━━━━━━━━━━━\u001b[0m\u001b[37m\u001b[0m \u001b[1m0s\u001b[0m 2ms/step - accuracy: 0.9971 - loss: 0.0243\n",
            "Epoch 44/50\n",
            "\u001b[1m50/50\u001b[0m \u001b[32m━━━━━━━━━━━━━━━━━━━━\u001b[0m\u001b[37m\u001b[0m \u001b[1m0s\u001b[0m 2ms/step - accuracy: 0.9987 - loss: 0.0205\n",
            "Epoch 45/50\n",
            "\u001b[1m50/50\u001b[0m \u001b[32m━━━━━━━━━━━━━━━━━━━━\u001b[0m\u001b[37m\u001b[0m \u001b[1m0s\u001b[0m 2ms/step - accuracy: 0.9987 - loss: 0.0181\n",
            "Epoch 46/50\n",
            "\u001b[1m50/50\u001b[0m \u001b[32m━━━━━━━━━━━━━━━━━━━━\u001b[0m\u001b[37m\u001b[0m \u001b[1m0s\u001b[0m 2ms/step - accuracy: 0.9945 - loss: 0.0234\n",
            "Epoch 47/50\n",
            "\u001b[1m50/50\u001b[0m \u001b[32m━━━━━━━━━━━━━━━━━━━━\u001b[0m\u001b[37m\u001b[0m \u001b[1m0s\u001b[0m 2ms/step - accuracy: 0.9996 - loss: 0.0184\n",
            "Epoch 48/50\n",
            "\u001b[1m50/50\u001b[0m \u001b[32m━━━━━━━━━━━━━━━━━━━━\u001b[0m\u001b[37m\u001b[0m \u001b[1m0s\u001b[0m 2ms/step - accuracy: 0.9982 - loss: 0.0179\n",
            "Epoch 49/50\n",
            "\u001b[1m50/50\u001b[0m \u001b[32m━━━━━━━━━━━━━━━━━━━━\u001b[0m\u001b[37m\u001b[0m \u001b[1m0s\u001b[0m 2ms/step - accuracy: 0.9993 - loss: 0.0170\n",
            "Epoch 50/50\n",
            "\u001b[1m50/50\u001b[0m \u001b[32m━━━━━━━━━━━━━━━━━━━━\u001b[0m\u001b[37m\u001b[0m \u001b[1m0s\u001b[0m 1ms/step - accuracy: 0.9993 - loss: 0.0181\n",
            "Test Loss: 0.0403\n",
            "Test Accuracy: 0.9850\n"
          ]
        }
      ]
    },
    {
      "cell_type": "markdown",
      "source": [
        "using grid search we got these results\n",
        "\n",
        "Test Loss: 0.0403\n",
        "Test Accuracy: 0.9850\n",
        "\n",
        "meaning a loss of 0.0403 is indicating that our model is making accurate predictions and has learned effectively from the training data.\n",
        "while a test accuracy of 0.9850, or 98.5%, is also excellent, suggesting that the model correctly classified 98.5% of the test samples."
      ],
      "metadata": {
        "id": "E07u76GB_siT"
      }
    },
    {
      "cell_type": "markdown",
      "source": [
        "### Random search"
      ],
      "metadata": {
        "id": "W1G-2rbtBwCX"
      }
    },
    {
      "cell_type": "code",
      "source": [
        "\n",
        "# Set random seed for reproducibility\n",
        "np.random.seed(0)\n",
        "\n",
        "# Create two sets of shuffled indices for pairing observations\n",
        "half_len = len(df) // 2  # Half the dataset length\n",
        "indices = np.random.permutation(len(df))  # Random permutation of indices\n",
        "\n",
        "# Split the indices into two halves for comparison\n",
        "first_indices = indices[:half_len]  # First half\n",
        "second_indices = indices[half_len:half_len * 2]  # Second half\n",
        "\n",
        "# Create a paired dataset where each row is a comparison between two cars\n",
        "df_pairs = pd.DataFrame({\n",
        "    'price_diff': df['price_norm'].iloc[first_indices].values - df['price_norm'].iloc[second_indices].values,\n",
        "    'mileage_diff': df['milage_norm'].iloc[first_indices].values - df['milage_norm'].iloc[second_indices].values,\n",
        "    'model_year_diff': df['model_year'].iloc[first_indices].values - df['model_year'].iloc[second_indices].values,\n",
        "    'brand_popularity_diff': df['brand_popularity'].iloc[first_indices].values - df['brand_popularity'].iloc[second_indices].values,\n",
        "    'accident_encoded_1': df['clean_title_ecnoded'].iloc[first_indices].values,\n",
        "    'accident_encoded_2': df['clean_title_ecnoded'].iloc[second_indices].values,\n",
        "    'fuel_type_encoded_1': df['fuel_type_encoded'].iloc[first_indices].values,\n",
        "    'fuel_type_encoded_2': df['fuel_type_encoded'].iloc[second_indices].values,\n",
        "    'preferred_car': (df['price'].iloc[first_indices].values > df['price'].iloc[second_indices].values).astype(int)\n",
        "})\n",
        "\n",
        "# Split the data into features (X) and target variable (y)\n",
        "X = df_pairs.drop('preferred_car', axis=1)  # Drop target column to get features\n",
        "y = df_pairs['preferred_car']  # Target: 1 if first car is preferred, 0 otherwise\n",
        "\n",
        "# Apply feature scaling to ensure that all features contribute equally to the model\n",
        "scaler = StandardScaler()  # Initialize scaler\n",
        "X = scaler.fit_transform(X)  # Scale features\n",
        "\n",
        "# Define a function to build the neural network model\n",
        "def build_model(neurons=32, optimizer='adam'):\n",
        "    \"\"\"Build a Sequential neural network model.\"\"\"\n",
        "    model = Sequential([  # Initialize a Sequential model\n",
        "        Dense(neurons, activation='relu', input_shape=(X.shape[1],)),  # First hidden layer\n",
        "        Dense(neurons, activation='relu'),  # Second hidden layer\n",
        "        Dense(1, activation='sigmoid')  # Output layer for binary classification\n",
        "    ])\n",
        "    # Compile the model with specified optimizer, loss function, and evaluation metric\n",
        "    model.compile(optimizer=optimizer, loss='binary_crossentropy', metrics=['accuracy'])\n",
        "    return model\n",
        "\n",
        "# Wrap the Keras model to use it with scikit-learn's RandomizedSearchCV\n",
        "model = KerasClassifier(model=build_model, verbose=0)\n",
        "\n",
        "# Define the hyperparameter search space for RandomizedSearchCV\n",
        "param_dist = {\n",
        "    'model__neurons': [32, 64, 128, 256],  # Number of neurons per layer to try\n",
        "    'model__optimizer': ['adam', 'sgd'],  # Optimizers to experiment with\n",
        "    'batch_size': [16, 32, 64],  # Batch sizes to test\n",
        "    'epochs': [10, 20, 30, 50]  # Number of epochs for training\n",
        "}\n",
        "\n",
        "# Initialize RandomizedSearchCV to find the best hyperparameters\n",
        "random_search = RandomizedSearchCV(\n",
        "    estimator=model,  # Keras model wrapped in KerasClassifier\n",
        "    param_distributions=param_dist,  # Hyperparameter space\n",
        "    n_iter=5,  # Number of random combinations to try\n",
        "    cv=5,  # 5-fold cross-validation\n",
        "    verbose=1,  # Print progress\n",
        "    random_state=42,  # Reproducibility\n",
        "    n_jobs=-1  # Use all available CPU cores\n",
        ")\n",
        "\n",
        "# Perform the random search to find the best hyperparameters\n",
        "random_search_result = random_search.fit(X, y)\n",
        "\n",
        "# Display the best score and hyperparameters found\n",
        "print(f\"Best Score: {random_search_result.best_score_}\")\n",
        "print(f\"Best Params: {random_search_result.best_params_}\")\n",
        "\n",
        "# Extract the best hyperparameters from the search results\n",
        "best_params = random_search_result.best_params_\n",
        "\n",
        "# Build the model with the best found hyperparameters\n",
        "best_model = build_model(\n",
        "    neurons=best_params['model__neurons'],  # Optimal number of neurons\n",
        "    optimizer=best_params['model__optimizer']  # Optimal optimizer\n",
        ")\n",
        "\n",
        "# Split the data into training and testing sets for final evaluation\n",
        "X_train, X_test, y_train, y_test = train_test_split(X, y, test_size=0.2, random_state=0)\n",
        "\n",
        "# Train the model with the best hyperparameters and capture the training history\n",
        "history = best_model.fit(\n",
        "    X_train, y_train,  # Training data\n",
        "    validation_data=(X_test, y_test),  # Validation data\n",
        "    epochs=best_params['epochs'],  # Optimal number of epochs\n",
        "    batch_size=best_params['batch_size'],  # Optimal batch size\n",
        "    verbose=1  # Display training progress\n",
        ")\n",
        "\n",
        "# Evaluate the model on the test set\n",
        "loss, accuracy = best_model.evaluate(X_test, y_test)\n",
        "print(f\"Test Accuracy: {accuracy * 100:.2f}%\")\n",
        "\n",
        "# Generate predictions on the test set\n",
        "y_pred = (best_model.predict(X_test) > 0.5).astype(\"int32\")\n",
        "\n",
        "# Print the confusion matrix and classification report for model evaluation\n",
        "print(\"Confusion Matrix:\\n\", confusion_matrix(y_test, y_pred))\n",
        "print(\"Classification Report:\\n\", classification_report(y_test, y_pred))\n",
        "\n",
        "# Plot the training history: accuracy and loss over epochs\n",
        "plt.figure(figsize=(12, 5))\n",
        "\n",
        "# Plot training and validation accuracy\n",
        "plt.subplot(1, 2, 1)\n",
        "plt.plot(history.history['accuracy'], label='Training Accuracy')\n",
        "plt.plot(history.history['val_accuracy'], label='Validation Accuracy')\n",
        "plt.title('Model Accuracy')\n",
        "plt.xlabel('Epoch')\n",
        "plt.ylabel('Accuracy')\n",
        "plt.legend()\n",
        "\n",
        "# Plot training and validation loss\n",
        "plt.subplot(1, 2, 2)\n",
        "plt.plot(history.history['loss'], label='Training Loss')\n",
        "plt.plot(history.history['val_loss'], label='Validation Loss')\n",
        "plt.title('Model Loss')\n",
        "plt.xlabel('Epoch')\n",
        "plt.ylabel('Loss')\n",
        "plt.legend()\n",
        "\n",
        "# Adjust layout and display the plots\n",
        "plt.tight_layout()\n",
        "plt.show()\n",
        "\n"
      ],
      "metadata": {
        "colab": {
          "base_uri": "https://localhost:8080/",
          "height": 1000
        },
        "id": "hluuE2wx_Dry",
        "outputId": "766fdf3c-020d-435b-a301-26d6dd2ecf37"
      },
      "execution_count": 57,
      "outputs": [
        {
          "output_type": "stream",
          "name": "stdout",
          "text": [
            "Fitting 5 folds for each of 5 candidates, totalling 25 fits\n"
          ]
        },
        {
          "output_type": "stream",
          "name": "stderr",
          "text": [
            "/usr/local/lib/python3.10/dist-packages/keras/src/layers/core/dense.py:87: UserWarning: Do not pass an `input_shape`/`input_dim` argument to a layer. When using Sequential models, prefer using an `Input(shape)` object as the first layer in the model instead.\n",
            "  super().__init__(activity_regularizer=activity_regularizer, **kwargs)\n"
          ]
        },
        {
          "output_type": "stream",
          "name": "stdout",
          "text": [
            "Best Score: 0.9855074812967581\n",
            "Best Params: {'model__optimizer': 'adam', 'model__neurons': 256, 'epochs': 50, 'batch_size': 64}\n"
          ]
        },
        {
          "output_type": "stream",
          "name": "stderr",
          "text": [
            "/usr/local/lib/python3.10/dist-packages/keras/src/layers/core/dense.py:87: UserWarning: Do not pass an `input_shape`/`input_dim` argument to a layer. When using Sequential models, prefer using an `Input(shape)` object as the first layer in the model instead.\n",
            "  super().__init__(activity_regularizer=activity_regularizer, **kwargs)\n"
          ]
        },
        {
          "output_type": "stream",
          "name": "stdout",
          "text": [
            "Epoch 1/50\n",
            "\u001b[1m25/25\u001b[0m \u001b[32m━━━━━━━━━━━━━━━━━━━━\u001b[0m\u001b[37m\u001b[0m \u001b[1m3s\u001b[0m 20ms/step - accuracy: 0.7090 - loss: 0.5531 - val_accuracy: 0.8254 - val_loss: 0.3834\n",
            "Epoch 2/50\n",
            "\u001b[1m25/25\u001b[0m \u001b[32m━━━━━━━━━━━━━━━━━━━━\u001b[0m\u001b[37m\u001b[0m \u001b[1m0s\u001b[0m 10ms/step - accuracy: 0.8481 - loss: 0.3291 - val_accuracy: 0.8628 - val_loss: 0.3011\n",
            "Epoch 3/50\n",
            "\u001b[1m25/25\u001b[0m \u001b[32m━━━━━━━━━━━━━━━━━━━━\u001b[0m\u001b[37m\u001b[0m \u001b[1m0s\u001b[0m 12ms/step - accuracy: 0.8917 - loss: 0.2414 - val_accuracy: 0.9352 - val_loss: 0.2148\n",
            "Epoch 4/50\n",
            "\u001b[1m25/25\u001b[0m \u001b[32m━━━━━━━━━━━━━━━━━━━━\u001b[0m\u001b[37m\u001b[0m \u001b[1m1s\u001b[0m 10ms/step - accuracy: 0.9311 - loss: 0.1829 - val_accuracy: 0.9426 - val_loss: 0.1620\n",
            "Epoch 5/50\n",
            "\u001b[1m25/25\u001b[0m \u001b[32m━━━━━━━━━━━━━━━━━━━━\u001b[0m\u001b[37m\u001b[0m \u001b[1m0s\u001b[0m 13ms/step - accuracy: 0.9458 - loss: 0.1539 - val_accuracy: 0.9626 - val_loss: 0.1165\n",
            "Epoch 6/50\n",
            "\u001b[1m25/25\u001b[0m \u001b[32m━━━━━━━━━━━━━━━━━━━━\u001b[0m\u001b[37m\u001b[0m \u001b[1m1s\u001b[0m 11ms/step - accuracy: 0.9672 - loss: 0.1108 - val_accuracy: 0.9676 - val_loss: 0.1004\n",
            "Epoch 7/50\n",
            "\u001b[1m25/25\u001b[0m \u001b[32m━━━━━━━━━━━━━━━━━━━━\u001b[0m\u001b[37m\u001b[0m \u001b[1m0s\u001b[0m 6ms/step - accuracy: 0.9768 - loss: 0.0944 - val_accuracy: 0.9800 - val_loss: 0.0803\n",
            "Epoch 8/50\n",
            "\u001b[1m25/25\u001b[0m \u001b[32m━━━━━━━━━━━━━━━━━━━━\u001b[0m\u001b[37m\u001b[0m \u001b[1m0s\u001b[0m 10ms/step - accuracy: 0.9819 - loss: 0.0784 - val_accuracy: 0.9651 - val_loss: 0.0855\n",
            "Epoch 9/50\n",
            "\u001b[1m25/25\u001b[0m \u001b[32m━━━━━━━━━━━━━━━━━━━━\u001b[0m\u001b[37m\u001b[0m \u001b[1m0s\u001b[0m 15ms/step - accuracy: 0.9723 - loss: 0.0732 - val_accuracy: 0.9726 - val_loss: 0.0800\n",
            "Epoch 10/50\n",
            "\u001b[1m25/25\u001b[0m \u001b[32m━━━━━━━━━━━━━━━━━━━━\u001b[0m\u001b[37m\u001b[0m \u001b[1m0s\u001b[0m 8ms/step - accuracy: 0.9635 - loss: 0.0731 - val_accuracy: 0.9776 - val_loss: 0.0658\n",
            "Epoch 11/50\n",
            "\u001b[1m25/25\u001b[0m \u001b[32m━━━━━━━━━━━━━━━━━━━━\u001b[0m\u001b[37m\u001b[0m \u001b[1m0s\u001b[0m 13ms/step - accuracy: 0.9850 - loss: 0.0545 - val_accuracy: 0.9776 - val_loss: 0.0581\n",
            "Epoch 12/50\n",
            "\u001b[1m25/25\u001b[0m \u001b[32m━━━━━━━━━━━━━━━━━━━━\u001b[0m\u001b[37m\u001b[0m \u001b[1m0s\u001b[0m 9ms/step - accuracy: 0.9918 - loss: 0.0515 - val_accuracy: 0.9850 - val_loss: 0.0493\n",
            "Epoch 13/50\n",
            "\u001b[1m25/25\u001b[0m \u001b[32m━━━━━━━━━━━━━━━━━━━━\u001b[0m\u001b[37m\u001b[0m \u001b[1m0s\u001b[0m 10ms/step - accuracy: 0.9890 - loss: 0.0432 - val_accuracy: 0.9875 - val_loss: 0.0526\n",
            "Epoch 14/50\n",
            "\u001b[1m25/25\u001b[0m \u001b[32m━━━━━━━━━━━━━━━━━━━━\u001b[0m\u001b[37m\u001b[0m \u001b[1m1s\u001b[0m 9ms/step - accuracy: 0.9945 - loss: 0.0353 - val_accuracy: 0.9825 - val_loss: 0.0465\n",
            "Epoch 15/50\n",
            "\u001b[1m25/25\u001b[0m \u001b[32m━━━━━━━━━━━━━━━━━━━━\u001b[0m\u001b[37m\u001b[0m \u001b[1m1s\u001b[0m 16ms/step - accuracy: 0.9934 - loss: 0.0312 - val_accuracy: 0.9751 - val_loss: 0.0506\n",
            "Epoch 16/50\n",
            "\u001b[1m25/25\u001b[0m \u001b[32m━━━━━━━━━━━━━━━━━━━━\u001b[0m\u001b[37m\u001b[0m \u001b[1m0s\u001b[0m 11ms/step - accuracy: 0.9964 - loss: 0.0324 - val_accuracy: 0.9800 - val_loss: 0.0527\n",
            "Epoch 17/50\n",
            "\u001b[1m25/25\u001b[0m \u001b[32m━━━━━━━━━━━━━━━━━━━━\u001b[0m\u001b[37m\u001b[0m \u001b[1m0s\u001b[0m 13ms/step - accuracy: 0.9941 - loss: 0.0314 - val_accuracy: 0.9825 - val_loss: 0.0451\n",
            "Epoch 18/50\n",
            "\u001b[1m25/25\u001b[0m \u001b[32m━━━━━━━━━━━━━━━━━━━━\u001b[0m\u001b[37m\u001b[0m \u001b[1m0s\u001b[0m 12ms/step - accuracy: 0.9934 - loss: 0.0268 - val_accuracy: 0.9701 - val_loss: 0.0608\n",
            "Epoch 19/50\n",
            "\u001b[1m25/25\u001b[0m \u001b[32m━━━━━━━━━━━━━━━━━━━━\u001b[0m\u001b[37m\u001b[0m \u001b[1m1s\u001b[0m 18ms/step - accuracy: 0.9942 - loss: 0.0294 - val_accuracy: 0.9825 - val_loss: 0.0365\n",
            "Epoch 20/50\n",
            "\u001b[1m25/25\u001b[0m \u001b[32m━━━━━━━━━━━━━━━━━━━━\u001b[0m\u001b[37m\u001b[0m \u001b[1m0s\u001b[0m 17ms/step - accuracy: 0.9920 - loss: 0.0260 - val_accuracy: 0.9875 - val_loss: 0.0310\n",
            "Epoch 21/50\n",
            "\u001b[1m25/25\u001b[0m \u001b[32m━━━━━━━━━━━━━━━━━━━━\u001b[0m\u001b[37m\u001b[0m \u001b[1m1s\u001b[0m 14ms/step - accuracy: 0.9950 - loss: 0.0248 - val_accuracy: 0.9850 - val_loss: 0.0429\n",
            "Epoch 22/50\n",
            "\u001b[1m25/25\u001b[0m \u001b[32m━━━━━━━━━━━━━━━━━━━━\u001b[0m\u001b[37m\u001b[0m \u001b[1m1s\u001b[0m 16ms/step - accuracy: 0.9990 - loss: 0.0203 - val_accuracy: 0.9825 - val_loss: 0.0384\n",
            "Epoch 23/50\n",
            "\u001b[1m25/25\u001b[0m \u001b[32m━━━━━━━━━━━━━━━━━━━━\u001b[0m\u001b[37m\u001b[0m \u001b[1m1s\u001b[0m 17ms/step - accuracy: 0.9996 - loss: 0.0163 - val_accuracy: 0.9800 - val_loss: 0.0398\n",
            "Epoch 24/50\n",
            "\u001b[1m25/25\u001b[0m \u001b[32m━━━━━━━━━━━━━━━━━━━━\u001b[0m\u001b[37m\u001b[0m \u001b[1m0s\u001b[0m 12ms/step - accuracy: 0.9960 - loss: 0.0216 - val_accuracy: 0.9925 - val_loss: 0.0316\n",
            "Epoch 25/50\n",
            "\u001b[1m25/25\u001b[0m \u001b[32m━━━━━━━━━━━━━━━━━━━━\u001b[0m\u001b[37m\u001b[0m \u001b[1m1s\u001b[0m 15ms/step - accuracy: 0.9939 - loss: 0.0197 - val_accuracy: 0.9825 - val_loss: 0.0396\n",
            "Epoch 26/50\n",
            "\u001b[1m25/25\u001b[0m \u001b[32m━━━━━━━━━━━━━━━━━━━━\u001b[0m\u001b[37m\u001b[0m \u001b[1m1s\u001b[0m 15ms/step - accuracy: 0.9989 - loss: 0.0193 - val_accuracy: 0.9925 - val_loss: 0.0298\n",
            "Epoch 27/50\n",
            "\u001b[1m25/25\u001b[0m \u001b[32m━━━━━━━━━━━━━━━━━━━━\u001b[0m\u001b[37m\u001b[0m \u001b[1m1s\u001b[0m 14ms/step - accuracy: 0.9968 - loss: 0.0152 - val_accuracy: 0.9825 - val_loss: 0.0388\n",
            "Epoch 28/50\n",
            "\u001b[1m25/25\u001b[0m \u001b[32m━━━━━━━━━━━━━━━━━━━━\u001b[0m\u001b[37m\u001b[0m \u001b[1m1s\u001b[0m 14ms/step - accuracy: 0.9997 - loss: 0.0126 - val_accuracy: 0.9825 - val_loss: 0.0395\n",
            "Epoch 29/50\n",
            "\u001b[1m25/25\u001b[0m \u001b[32m━━━━━━━━━━━━━━━━━━━━\u001b[0m\u001b[37m\u001b[0m \u001b[1m1s\u001b[0m 14ms/step - accuracy: 0.9941 - loss: 0.0151 - val_accuracy: 0.9776 - val_loss: 0.0550\n",
            "Epoch 30/50\n",
            "\u001b[1m25/25\u001b[0m \u001b[32m━━━━━━━━━━━━━━━━━━━━\u001b[0m\u001b[37m\u001b[0m \u001b[1m0s\u001b[0m 9ms/step - accuracy: 0.9980 - loss: 0.0153 - val_accuracy: 0.9875 - val_loss: 0.0359\n",
            "Epoch 31/50\n",
            "\u001b[1m25/25\u001b[0m \u001b[32m━━━━━━━━━━━━━━━━━━━━\u001b[0m\u001b[37m\u001b[0m \u001b[1m0s\u001b[0m 8ms/step - accuracy: 0.9991 - loss: 0.0095 - val_accuracy: 0.9875 - val_loss: 0.0301\n",
            "Epoch 32/50\n",
            "\u001b[1m25/25\u001b[0m \u001b[32m━━━━━━━━━━━━━━━━━━━━\u001b[0m\u001b[37m\u001b[0m \u001b[1m0s\u001b[0m 9ms/step - accuracy: 0.9980 - loss: 0.0124 - val_accuracy: 0.9825 - val_loss: 0.0413\n",
            "Epoch 33/50\n",
            "\u001b[1m25/25\u001b[0m \u001b[32m━━━━━━━━━━━━━━━━━━━━\u001b[0m\u001b[37m\u001b[0m \u001b[1m0s\u001b[0m 8ms/step - accuracy: 0.9977 - loss: 0.0142 - val_accuracy: 0.9900 - val_loss: 0.0330\n",
            "Epoch 34/50\n",
            "\u001b[1m25/25\u001b[0m \u001b[32m━━━━━━━━━━━━━━━━━━━━\u001b[0m\u001b[37m\u001b[0m \u001b[1m0s\u001b[0m 12ms/step - accuracy: 0.9962 - loss: 0.0141 - val_accuracy: 0.9825 - val_loss: 0.0541\n",
            "Epoch 35/50\n",
            "\u001b[1m25/25\u001b[0m \u001b[32m━━━━━━━━━━━━━━━━━━━━\u001b[0m\u001b[37m\u001b[0m \u001b[1m0s\u001b[0m 9ms/step - accuracy: 0.9894 - loss: 0.0247 - val_accuracy: 0.9850 - val_loss: 0.0262\n",
            "Epoch 36/50\n",
            "\u001b[1m25/25\u001b[0m \u001b[32m━━━━━━━━━━━━━━━━━━━━\u001b[0m\u001b[37m\u001b[0m \u001b[1m0s\u001b[0m 8ms/step - accuracy: 0.9949 - loss: 0.0194 - val_accuracy: 0.9776 - val_loss: 0.0522\n",
            "Epoch 37/50\n",
            "\u001b[1m25/25\u001b[0m \u001b[32m━━━━━━━━━━━━━━━━━━━━\u001b[0m\u001b[37m\u001b[0m \u001b[1m0s\u001b[0m 9ms/step - accuracy: 0.9967 - loss: 0.0117 - val_accuracy: 0.9900 - val_loss: 0.0400\n",
            "Epoch 38/50\n",
            "\u001b[1m25/25\u001b[0m \u001b[32m━━━━━━━━━━━━━━━━━━━━\u001b[0m\u001b[37m\u001b[0m \u001b[1m0s\u001b[0m 8ms/step - accuracy: 0.9997 - loss: 0.0091 - val_accuracy: 0.9875 - val_loss: 0.0280\n",
            "Epoch 39/50\n",
            "\u001b[1m25/25\u001b[0m \u001b[32m━━━━━━━━━━━━━━━━━━━━\u001b[0m\u001b[37m\u001b[0m \u001b[1m0s\u001b[0m 6ms/step - accuracy: 0.9962 - loss: 0.0101 - val_accuracy: 0.9925 - val_loss: 0.0269\n",
            "Epoch 40/50\n",
            "\u001b[1m25/25\u001b[0m \u001b[32m━━━━━━━━━━━━━━━━━━━━\u001b[0m\u001b[37m\u001b[0m \u001b[1m0s\u001b[0m 5ms/step - accuracy: 0.9990 - loss: 0.0066 - val_accuracy: 0.9850 - val_loss: 0.0332\n",
            "Epoch 41/50\n",
            "\u001b[1m25/25\u001b[0m \u001b[32m━━━━━━━━━━━━━━━━━━━━\u001b[0m\u001b[37m\u001b[0m \u001b[1m0s\u001b[0m 5ms/step - accuracy: 0.9975 - loss: 0.0086 - val_accuracy: 0.9825 - val_loss: 0.0551\n",
            "Epoch 42/50\n",
            "\u001b[1m25/25\u001b[0m \u001b[32m━━━━━━━━━━━━━━━━━━━━\u001b[0m\u001b[37m\u001b[0m \u001b[1m0s\u001b[0m 5ms/step - accuracy: 0.9971 - loss: 0.0133 - val_accuracy: 0.9701 - val_loss: 0.0671\n",
            "Epoch 43/50\n",
            "\u001b[1m25/25\u001b[0m \u001b[32m━━━━━━━━━━━━━━━━━━━━\u001b[0m\u001b[37m\u001b[0m \u001b[1m0s\u001b[0m 5ms/step - accuracy: 0.9995 - loss: 0.0083 - val_accuracy: 0.9776 - val_loss: 0.0526\n",
            "Epoch 44/50\n",
            "\u001b[1m25/25\u001b[0m \u001b[32m━━━━━━━━━━━━━━━━━━━━\u001b[0m\u001b[37m\u001b[0m \u001b[1m0s\u001b[0m 5ms/step - accuracy: 0.9979 - loss: 0.0105 - val_accuracy: 0.9776 - val_loss: 0.0570\n",
            "Epoch 45/50\n",
            "\u001b[1m25/25\u001b[0m \u001b[32m━━━━━━━━━━━━━━━━━━━━\u001b[0m\u001b[37m\u001b[0m \u001b[1m0s\u001b[0m 5ms/step - accuracy: 0.9910 - loss: 0.0209 - val_accuracy: 0.9875 - val_loss: 0.0278\n",
            "Epoch 46/50\n",
            "\u001b[1m25/25\u001b[0m \u001b[32m━━━━━━━━━━━━━━━━━━━━\u001b[0m\u001b[37m\u001b[0m \u001b[1m0s\u001b[0m 5ms/step - accuracy: 0.9993 - loss: 0.0067 - val_accuracy: 0.9925 - val_loss: 0.0201\n",
            "Epoch 47/50\n",
            "\u001b[1m25/25\u001b[0m \u001b[32m━━━━━━━━━━━━━━━━━━━━\u001b[0m\u001b[37m\u001b[0m \u001b[1m0s\u001b[0m 6ms/step - accuracy: 1.0000 - loss: 0.0069 - val_accuracy: 0.9900 - val_loss: 0.0243\n",
            "Epoch 48/50\n",
            "\u001b[1m25/25\u001b[0m \u001b[32m━━━━━━━━━━━━━━━━━━━━\u001b[0m\u001b[37m\u001b[0m \u001b[1m0s\u001b[0m 5ms/step - accuracy: 0.9998 - loss: 0.0044 - val_accuracy: 0.9925 - val_loss: 0.0206\n",
            "Epoch 49/50\n",
            "\u001b[1m25/25\u001b[0m \u001b[32m━━━━━━━━━━━━━━━━━━━━\u001b[0m\u001b[37m\u001b[0m \u001b[1m0s\u001b[0m 5ms/step - accuracy: 0.9976 - loss: 0.0057 - val_accuracy: 0.9875 - val_loss: 0.0238\n",
            "Epoch 50/50\n",
            "\u001b[1m25/25\u001b[0m \u001b[32m━━━━━━━━━━━━━━━━━━━━\u001b[0m\u001b[37m\u001b[0m \u001b[1m0s\u001b[0m 5ms/step - accuracy: 0.9989 - loss: 0.0062 - val_accuracy: 0.9900 - val_loss: 0.0212\n",
            "\u001b[1m13/13\u001b[0m \u001b[32m━━━━━━━━━━━━━━━━━━━━\u001b[0m\u001b[37m\u001b[0m \u001b[1m0s\u001b[0m 2ms/step - accuracy: 0.9938 - loss: 0.0174 \n",
            "Test Accuracy: 99.00%\n",
            "\u001b[1m13/13\u001b[0m \u001b[32m━━━━━━━━━━━━━━━━━━━━\u001b[0m\u001b[37m\u001b[0m \u001b[1m0s\u001b[0m 5ms/step\n",
            "Confusion Matrix:\n",
            " [[217   1]\n",
            " [  3 180]]\n",
            "Classification Report:\n",
            "               precision    recall  f1-score   support\n",
            "\n",
            "           0       0.99      1.00      0.99       218\n",
            "           1       0.99      0.98      0.99       183\n",
            "\n",
            "    accuracy                           0.99       401\n",
            "   macro avg       0.99      0.99      0.99       401\n",
            "weighted avg       0.99      0.99      0.99       401\n",
            "\n"
          ]
        },
        {
          "output_type": "display_data",
          "data": {
            "text/plain": [
              "<Figure size 1200x500 with 2 Axes>"
            ],
            "image/png": "[encoded data removed]"
          },
          "metadata": {}
        }
      ]
    },
    {
      "cell_type": "markdown",
      "source": [
        "Using Random search, Our model performance was so much better!\n",
        "the model demonstrates outstanding performance with high precision, recall, and F1-scores for both classes, as well as an impressive overall accuracy.\n",
        "\n",
        "This suggests that Our model is effectively learning the distinguishing features between the two classes and generalizing well to the test data."
      ],
      "metadata": {
        "id": "xcf1TvRO0JlC"
      }
    },
    {
      "cell_type": "markdown",
      "source": [
        "Accuracy: 0.99 (99% of the total predictions were correct)\n",
        "This indicates that the model correctly classified 99% of all instances in the test set, which is an excellent result.\n",
        "\n",
        "The precision values indicate that 99% of the predicted instances for both classes were correct, while the recall values show the model accurately identified all instances of class 0 and 98% of class 1 instances. The F1-scores being high for both classes reflect a balanced performance in precision and recall."
      ],
      "metadata": {
        "id": "gHlsM0YyDC5z"
      }
    },
    {
      "cell_type": "markdown",
      "source": [
        "The overall results from the random search for hyperparameter optimization have proven to be superior to those obtained from the grid search. Several factors could explain this difference in performance, The grid search was conducted on a subset of the data, which represents only a small portion of the entire dataset. This limited representation may not have captured the full range of variability and patterns present in the complete dataset, leading to suboptimal hyperparameter selections and model performance.\n",
        "\n",
        "Since the grid search was performed on a smaller subset, there is a greater risk of overfitting to that limited data, potentially skewing the results. In contrast, the random search may have had access to a more representative sample, leading to more robust generalization."
      ],
      "metadata": {
        "id": "ezjdh4D-Dg3x"
      }
    }
  ],
  "metadata": {
    "colab": {
      "provenance": [],
      "toc_visible": true
    },
    "kernelspec": {
      "display_name": "Python 3",
      "name": "python3"
    },
    "language_info": {
      "name": "python"
    }
  },
  "nbformat": 4,
  "nbformat_minor": 0
}